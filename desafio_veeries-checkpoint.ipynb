{
 "cells": [
  {
   "cell_type": "markdown",
   "id": "581f78cf",
   "metadata": {},
   "source": [
    "  Utilizar a API do ESR Data do FAS do USDA (órgão do governo dos EUA para monitorar a exportação agrícola) e desenvolver uma rotina em Python para acompanhar semanalmente as exportações dos Estados Unidos de determinada cultura para dois países, conforme abaixo:\n",
    " \n",
    "# Especificações\n",
    "\n",
    "1) Baixar histórico completo disponível na API \n",
    "\n",
    "2) Sistematizar um processo de atualização semanal\n",
    "\n",
    "3) Cultura: Soja\n",
    "\n",
    "4) Países destino: China e México\n",
    "\n",
    "5) Tempo recomendado para o desafio: 1 hora\n",
    "\n",
    "# OBS.:\n",
    "\n",
    "1) Para obter uma chave da API, cadastrar na plataforma do FAS no link:\n",
    "https://apps.fas.usda.gov/opendataweb/home \n",
    "\n",
    "2) Ler a documentação da API para atender as especificações \n",
    "\n",
    "3) Desenvolver uma rotina que consuma a API e disponibilize a base de dados em um\n",
    "arquivo csv (formate pensando em uma forma fácil de consumir)"
   ]
  },
  {
   "cell_type": "markdown",
   "id": "47b98ad5",
   "metadata": {},
   "source": [
    "# Imports "
   ]
  },
  {
   "cell_type": "code",
   "execution_count": 2,
   "id": "55d6b573",
   "metadata": {},
   "outputs": [],
   "source": [
    "import requests\n",
    "import json \n",
    "import pandas as pd \n",
    "import datetime "
   ]
  },
  {
   "cell_type": "markdown",
   "id": "7550c672",
   "metadata": {},
   "source": [
    "# Variáveis "
   ]
  },
  {
   "cell_type": "code",
   "execution_count": 3,
   "id": "4dad6465",
   "metadata": {},
   "outputs": [],
   "source": [
    "headers_dict = {\"API_KEY\": \"3ac2f199-34ca-433a-a839-46b81be88596\"}\n",
    "url_countries = \"https://apps.fas.usda.gov/OpenData/api/esr/countries\"\n",
    "url_commodities = \"https://apps.fas.usda.gov/OpenData/api/esr/commodities\""
   ]
  },
  {
   "cell_type": "markdown",
   "id": "87024b91",
   "metadata": {},
   "source": [
    "# Requests "
   ]
  },
  {
   "cell_type": "code",
   "execution_count": 4,
   "id": "66a7c67c",
   "metadata": {},
   "outputs": [],
   "source": [
    "#Coletando os dados dos Países \n",
    "data_countries = requests.get(url=url_countries, headers=headers_dict)  \n",
    "# Coletando os dados das commodities \n",
    "data_commodities = requests.get(url=url_commodities, headers=headers_dict) "
   ]
  },
  {
   "cell_type": "markdown",
   "id": "24fb435c",
   "metadata": {},
   "source": [
    "# Data frame "
   ]
  },
  {
   "cell_type": "code",
   "execution_count": 5,
   "id": "6a025243",
   "metadata": {},
   "outputs": [
    {
     "data": {
      "text/html": [
       "<div>\n",
       "<style scoped>\n",
       "    .dataframe tbody tr th:only-of-type {\n",
       "        vertical-align: middle;\n",
       "    }\n",
       "\n",
       "    .dataframe tbody tr th {\n",
       "        vertical-align: top;\n",
       "    }\n",
       "\n",
       "    .dataframe thead th {\n",
       "        text-align: right;\n",
       "    }\n",
       "</style>\n",
       "<table border=\"1\" class=\"dataframe\">\n",
       "  <thead>\n",
       "    <tr style=\"text-align: right;\">\n",
       "      <th></th>\n",
       "      <th>countryCode</th>\n",
       "      <th>countryName</th>\n",
       "      <th>countryDescription</th>\n",
       "      <th>regionId</th>\n",
       "      <th>gencCode</th>\n",
       "    </tr>\n",
       "  </thead>\n",
       "  <tbody>\n",
       "    <tr>\n",
       "      <th>0</th>\n",
       "      <td>1</td>\n",
       "      <td>EUROPEAN</td>\n",
       "      <td>EUROPEAN UNION - 27</td>\n",
       "      <td>1</td>\n",
       "      <td>None</td>\n",
       "    </tr>\n",
       "    <tr>\n",
       "      <th>1</th>\n",
       "      <td>2</td>\n",
       "      <td>UNKNOWN</td>\n",
       "      <td>UNKNOWN</td>\n",
       "      <td>99</td>\n",
       "      <td>AX1</td>\n",
       "    </tr>\n",
       "    <tr>\n",
       "      <th>2</th>\n",
       "      <td>1010</td>\n",
       "      <td>GREENLD</td>\n",
       "      <td>GREENLAND</td>\n",
       "      <td>11</td>\n",
       "      <td>GRL</td>\n",
       "    </tr>\n",
       "    <tr>\n",
       "      <th>3</th>\n",
       "      <td>1220</td>\n",
       "      <td>CANADA</td>\n",
       "      <td>CANADA</td>\n",
       "      <td>11</td>\n",
       "      <td>CAN</td>\n",
       "    </tr>\n",
       "    <tr>\n",
       "      <th>4</th>\n",
       "      <td>1610</td>\n",
       "      <td>MIGUEL</td>\n",
       "      <td>ST. PIERRE AND MIQUELON</td>\n",
       "      <td>11</td>\n",
       "      <td>None</td>\n",
       "    </tr>\n",
       "  </tbody>\n",
       "</table>\n",
       "</div>"
      ],
      "text/plain": [
       "   countryCode countryName               countryDescription  regionId gencCode\n",
       "0            1    EUROPEAN   EUROPEAN UNION - 27                    1     None\n",
       "1            2     UNKNOWN                          UNKNOWN        99      AX1\n",
       "2         1010    GREENLD   GREENLAND                              11      GRL\n",
       "3         1220    CANADA    CANADA                                 11      CAN\n",
       "4         1610    MIGUEL    ST. PIERRE AND MIQUELON                11     None"
      ]
     },
     "execution_count": 5,
     "metadata": {},
     "output_type": "execute_result"
    }
   ],
   "source": [
    "df_countries = pd.read_json(data_countries.text)\n",
    "df_countries.head()"
   ]
  },
  {
   "cell_type": "markdown",
   "id": "f5f48485",
   "metadata": {},
   "source": [
    "# Checagem \"informal dos dados\"\n"
   ]
  },
  {
   "cell_type": "code",
   "execution_count": 6,
   "id": "0c2c15ea",
   "metadata": {},
   "outputs": [
    {
     "name": "stdout",
     "output_type": "stream",
     "text": [
      "True\n",
      "True\n"
     ]
    }
   ],
   "source": [
    "# Checando se existe CHINA e MEXICO dentro dos dados\n",
    "print('CHINA' in str(data_countries.text))\n",
    "print('MEXICO' in str(data_countries.text))"
   ]
  },
  {
   "cell_type": "markdown",
   "id": "c0e0a231",
   "metadata": {},
   "source": [
    "# Visualização dos dados "
   ]
  },
  {
   "cell_type": "code",
   "execution_count": 7,
   "id": "09bc946b",
   "metadata": {},
   "outputs": [
    {
     "data": {
      "text/plain": [
       "'[{\"countryCode\":1,\"countryName\":\"EUROPEAN\",\"countryDescription\":\"EUROPEAN UNION - 27           \",\"regionId\":1,\"gencCode\":null},{\"countryCode\":2,\"countryName\":\"UNKNOWN\",\"countryDescription\":\"UNKNOWN\",\"regionId\":99,\"gencCode\":\"AX1\"},{\"countryCode\":1010,\"countryName\":\"GREENLD \",\"countryDescription\":\"GREENLAND                      \",\"regionId\":11,\"gencCode\":\"GRL\"},{\"countryCode\":1220,\"countryName\":\"CANADA  \",\"countryDescription\":\"CANADA                         \",\"regionId\":11,\"gencCode\":\"CAN\"},{\"countryCode\":1610,\"countryName\":\"MIGUEL  \",\"countryDescription\":\"ST. PIERRE AND MIQUELON        \",\"regionId\":11,\"gencCode\":null},{\"countryCode\":2010,\"countryName\":\"MEXICO  \",\"countryDescription\":\"MEXICO                         \",\"regionId\":11,\"gencCode\":\"MEX\"},{\"countryCode\":2050,\"countryName\":\"GUATMAL \",\"countryDescription\":\"GUATEMALA                      \",\"regionId\":11,\"gencCode\":\"GTM\"},{\"countryC'"
      ]
     },
     "execution_count": 7,
     "metadata": {},
     "output_type": "execute_result"
    }
   ],
   "source": [
    "str(data_countries.text)[:900]\n"
   ]
  },
  {
   "cell_type": "markdown",
   "id": "24829996",
   "metadata": {},
   "source": [
    "# Limpando os dados \n",
    "Vide visualização dos dados acima, nota-se espaços em brancos extras que precisam ser removidos. \n",
    "\n",
    "\n",
    "Como trata-se de apenas uma coluna podemos usar o método abaixo:\n",
    " "
   ]
  },
  {
   "cell_type": "code",
   "execution_count": 8,
   "id": "2144bf5c",
   "metadata": {},
   "outputs": [],
   "source": [
    "# Tratando os dados: Removendo espaços   \"  x   \"  ----> \"x\"\n",
    "df_countries[\"countryName\"] = df_countries[\"countryName\"].str.strip()"
   ]
  },
  {
   "cell_type": "markdown",
   "id": "b0c278e0",
   "metadata": {},
   "source": [
    "# Coletando os dados "
   ]
  },
  {
   "cell_type": "code",
   "execution_count": 9,
   "id": "b2c0ca80",
   "metadata": {},
   "outputs": [
    {
     "data": {
      "text/plain": [
       "5700"
      ]
     },
     "execution_count": 9,
     "metadata": {},
     "output_type": "execute_result"
    }
   ],
   "source": [
    "# Pegando o country_code de China \n",
    "china_countrycode = df_countries[df_countries['countryName'] == 'CHINA']['countryCode'].iloc[0]\n",
    "china_countrycode"
   ]
  },
  {
   "cell_type": "code",
   "execution_count": 10,
   "id": "d09ea023",
   "metadata": {},
   "outputs": [
    {
     "data": {
      "text/plain": [
       "2010"
      ]
     },
     "execution_count": 10,
     "metadata": {},
     "output_type": "execute_result"
    }
   ],
   "source": [
    "# Pegando o country_code de Mexico \n",
    "mexico_countrycode = df_countries[df_countries['countryName'] == 'MEXICO']['countryCode'].iloc[0]\n",
    "mexico_countrycode"
   ]
  },
  {
   "cell_type": "markdown",
   "id": "724444b8",
   "metadata": {},
   "source": [
    "# Analogamente, repetiremos as mesmas etapas prévias para as commodities"
   ]
  },
  {
   "cell_type": "markdown",
   "id": "9d623681",
   "metadata": {},
   "source": [
    "# Data frame "
   ]
  },
  {
   "cell_type": "code",
   "execution_count": 11,
   "id": "9fe4af91",
   "metadata": {},
   "outputs": [
    {
     "data": {
      "text/html": [
       "<div>\n",
       "<style scoped>\n",
       "    .dataframe tbody tr th:only-of-type {\n",
       "        vertical-align: middle;\n",
       "    }\n",
       "\n",
       "    .dataframe tbody tr th {\n",
       "        vertical-align: top;\n",
       "    }\n",
       "\n",
       "    .dataframe thead th {\n",
       "        text-align: right;\n",
       "    }\n",
       "</style>\n",
       "<table border=\"1\" class=\"dataframe\">\n",
       "  <thead>\n",
       "    <tr style=\"text-align: right;\">\n",
       "      <th></th>\n",
       "      <th>commodityCode</th>\n",
       "      <th>commodityName</th>\n",
       "      <th>unitId</th>\n",
       "    </tr>\n",
       "  </thead>\n",
       "  <tbody>\n",
       "    <tr>\n",
       "      <th>0</th>\n",
       "      <td>101</td>\n",
       "      <td>Wheat - HRW</td>\n",
       "      <td>1</td>\n",
       "    </tr>\n",
       "    <tr>\n",
       "      <th>1</th>\n",
       "      <td>102</td>\n",
       "      <td>Wheat - SRW</td>\n",
       "      <td>1</td>\n",
       "    </tr>\n",
       "    <tr>\n",
       "      <th>2</th>\n",
       "      <td>103</td>\n",
       "      <td>Wheat - HRS</td>\n",
       "      <td>1</td>\n",
       "    </tr>\n",
       "    <tr>\n",
       "      <th>3</th>\n",
       "      <td>104</td>\n",
       "      <td>Wheat - White</td>\n",
       "      <td>1</td>\n",
       "    </tr>\n",
       "    <tr>\n",
       "      <th>4</th>\n",
       "      <td>105</td>\n",
       "      <td>Wheat - Durum</td>\n",
       "      <td>1</td>\n",
       "    </tr>\n",
       "  </tbody>\n",
       "</table>\n",
       "</div>"
      ],
      "text/plain": [
       "   commodityCode  commodityName  unitId\n",
       "0            101    Wheat - HRW       1\n",
       "1            102    Wheat - SRW       1\n",
       "2            103    Wheat - HRS       1\n",
       "3            104  Wheat - White       1\n",
       "4            105  Wheat - Durum       1"
      ]
     },
     "execution_count": 11,
     "metadata": {},
     "output_type": "execute_result"
    }
   ],
   "source": [
    "df_commodities = pd.read_json(data_commodities.text)\n",
    "df_commodities.head()"
   ]
  },
  {
   "cell_type": "markdown",
   "id": "a7b009cf",
   "metadata": {},
   "source": [
    "# Checagem \"informal dos dados\"\n"
   ]
  },
  {
   "cell_type": "code",
   "execution_count": 12,
   "id": "cd7f94e7",
   "metadata": {},
   "outputs": [
    {
     "name": "stdout",
     "output_type": "stream",
     "text": [
      "True\n"
     ]
    }
   ],
   "source": [
    "# Checando se existe soja dentro dos dados\n",
    "print('Soybeans' in str(data_commodities.text))"
   ]
  },
  {
   "cell_type": "markdown",
   "id": "1b86fc11",
   "metadata": {},
   "source": [
    "# Visualização dos dados \n"
   ]
  },
  {
   "cell_type": "code",
   "execution_count": 13,
   "id": "d0ec1c4d",
   "metadata": {},
   "outputs": [
    {
     "data": {
      "text/plain": [
       "'[{\"commodityCode\":101,\"commodityName\":\"Wheat - HRW\",\"unitId\":1},{\"commodityCode\":102,\"commodityName\":\"Wheat - SRW\",\"unitId\":1},{\"commodityCode\":103,\"commodityName\":\"Wheat - HRS\",\"unitId\":1},{\"commodityCode\":104,\"commodityName\":\"Wheat - White\",\"unitId\":1},{\"commodityCode\":105,\"commodityName\":\"Wheat - Durum\",\"unitId\":1},{\"commodityCode\":106,\"commodityName\":\"Wheat - Mixed\",\"unitId\":1},{\"commodityCode\":107,\"commodityName\":\"All Wheat\",\"unitId\":1},{\"commodityCode\":201,\"commodityName\":\"Wheat Products\",\"unitId\":1},{\"commodityCode\":301,\"commodityName\":\"Barley\",\"unitId\":1},{\"commodityCode\":401,\"commodityName\":\"Corn\",\"unitId\":1},{\"commodityCode\":501,\"commodityName\":\"Rye\",\"unitId\":1},{\"commodityCode\":601,\"commodityName\":\"Oats\",\"unitId\":1},{\"commodityCode\":701,\"commodityName\":\"Sorghum\",\"unitId\":1},{\"commodityCode\":801,\"commodityName\":\"Soybeans\",\"unitId\":1},{\"commodityCode\":901,\"commodityName\":\"Soybea'"
      ]
     },
     "execution_count": 13,
     "metadata": {},
     "output_type": "execute_result"
    }
   ],
   "source": [
    "str(data_commodities.text)[:900]"
   ]
  },
  {
   "cell_type": "markdown",
   "id": "c1d8f4c5",
   "metadata": {},
   "source": [
    "# Coletando os dados "
   ]
  },
  {
   "cell_type": "code",
   "execution_count": 14,
   "id": "579ec409",
   "metadata": {},
   "outputs": [
    {
     "data": {
      "text/plain": [
       "801"
      ]
     },
     "execution_count": 14,
     "metadata": {},
     "output_type": "execute_result"
    }
   ],
   "source": [
    "# Como aparentemente, parece tudo ok com os dados acima, logo podemos coletar diretamente sem limpar os dados\n",
    "soybeans_commoditycode = df_commodities[df_commodities['commodityName'] == 'Soybeans']['commodityCode'].iloc[0]\n",
    "soybeans_commoditycode "
   ]
  },
  {
   "cell_type": "markdown",
   "id": "3d6f5068",
   "metadata": {},
   "source": [
    "#  Coletando os dados das exportações de soja dos EUA para China e México\n"
   ]
  },
  {
   "cell_type": "markdown",
   "id": "bfe500c9",
   "metadata": {},
   "source": [
    "# Variáveis "
   ]
  },
  {
   "cell_type": "code",
   "execution_count": 15,
   "id": "f24662d3",
   "metadata": {},
   "outputs": [],
   "source": [
    "# Definindo o ano atual \n",
    "year = (datetime.date.today()).year"
   ]
  },
  {
   "cell_type": "code",
   "execution_count": 16,
   "id": "b7c11d14",
   "metadata": {},
   "outputs": [],
   "source": [
    "url_china = \"https://apps.fas.usda.gov/OpenData/api/esr/exports/commodityCode/\" + str(soybeans_commoditycode) + \"/countryCode/\" + str(china_countrycode) +\"/marketYear/\" + str(year)"
   ]
  },
  {
   "cell_type": "code",
   "execution_count": 17,
   "id": "561d0339",
   "metadata": {},
   "outputs": [],
   "source": [
    "url_mexico = \"https://apps.fas.usda.gov/OpenData/api/esr/exports/commodityCode/\" + str(soybeans_commoditycode) + \"/countryCode/\" + str(mexico_countrycode) +\"/marketYear/\" + str(year)"
   ]
  },
  {
   "cell_type": "code",
   "execution_count": 18,
   "id": "9c10194d",
   "metadata": {
    "scrolled": true
   },
   "outputs": [
    {
     "name": "stdout",
     "output_type": "stream",
     "text": [
      "https://apps.fas.usda.gov/OpenData/api/esr/exports/commodityCode/801/countryCode/5700/marketYear/2022\n"
     ]
    }
   ],
   "source": [
    "link_tratado = (\"https://apps.fas.usda.gov/OpenData/api/esr/exports/commodityCode/\" +str(china_countrycode))\n",
    "print(url_china)"
   ]
  },
  {
   "cell_type": "markdown",
   "id": "5e082847",
   "metadata": {},
   "source": [
    "# Requests \n",
    "coletando os dados requeridos das exportações "
   ]
  },
  {
   "cell_type": "code",
   "execution_count": 19,
   "id": "221ecce2",
   "metadata": {},
   "outputs": [],
   "source": [
    "#Coletando os dados requeridos das exportações: \n",
    "data_china = requests.get(url=url_china, headers=headers_dict)  \n",
    "data_mexico = requests.get(url=url_mexico, headers=headers_dict)  "
   ]
  },
  {
   "cell_type": "markdown",
   "id": "af5180b6",
   "metadata": {},
   "source": [
    "# Data Frame - Exportações para a China "
   ]
  },
  {
   "cell_type": "code",
   "execution_count": 20,
   "id": "1feadaeb",
   "metadata": {},
   "outputs": [
    {
     "data": {
      "text/html": [
       "<div>\n",
       "<style scoped>\n",
       "    .dataframe tbody tr th:only-of-type {\n",
       "        vertical-align: middle;\n",
       "    }\n",
       "\n",
       "    .dataframe tbody tr th {\n",
       "        vertical-align: top;\n",
       "    }\n",
       "\n",
       "    .dataframe thead th {\n",
       "        text-align: right;\n",
       "    }\n",
       "</style>\n",
       "<table border=\"1\" class=\"dataframe\">\n",
       "  <thead>\n",
       "    <tr style=\"text-align: right;\">\n",
       "      <th></th>\n",
       "      <th>commodityCode</th>\n",
       "      <th>countryCode</th>\n",
       "      <th>weeklyExports</th>\n",
       "      <th>accumulatedExports</th>\n",
       "      <th>outstandingSales</th>\n",
       "      <th>grossNewSales</th>\n",
       "      <th>currentMYNetSales</th>\n",
       "      <th>currentMYTotalCommitment</th>\n",
       "      <th>nextMYOutstandingSales</th>\n",
       "      <th>nextMYNetSales</th>\n",
       "      <th>unitId</th>\n",
       "      <th>weekEndingDate</th>\n",
       "    </tr>\n",
       "  </thead>\n",
       "  <tbody>\n",
       "    <tr>\n",
       "      <th>0</th>\n",
       "      <td>801</td>\n",
       "      <td>5700</td>\n",
       "      <td>0</td>\n",
       "      <td>0</td>\n",
       "      <td>9422282</td>\n",
       "      <td>1479782</td>\n",
       "      <td>764000</td>\n",
       "      <td>9422282</td>\n",
       "      <td>0</td>\n",
       "      <td>0</td>\n",
       "      <td>1</td>\n",
       "      <td>2021-09-02T00:00:00</td>\n",
       "    </tr>\n",
       "    <tr>\n",
       "      <th>1</th>\n",
       "      <td>801</td>\n",
       "      <td>5700</td>\n",
       "      <td>139752</td>\n",
       "      <td>139752</td>\n",
       "      <td>10227741</td>\n",
       "      <td>945267</td>\n",
       "      <td>945211</td>\n",
       "      <td>10367493</td>\n",
       "      <td>0</td>\n",
       "      <td>0</td>\n",
       "      <td>1</td>\n",
       "      <td>2021-09-09T00:00:00</td>\n",
       "    </tr>\n",
       "    <tr>\n",
       "      <th>2</th>\n",
       "      <td>801</td>\n",
       "      <td>5700</td>\n",
       "      <td>66207</td>\n",
       "      <td>205959</td>\n",
       "      <td>10785684</td>\n",
       "      <td>756150</td>\n",
       "      <td>624150</td>\n",
       "      <td>10991643</td>\n",
       "      <td>0</td>\n",
       "      <td>0</td>\n",
       "      <td>1</td>\n",
       "      <td>2021-09-16T00:00:00</td>\n",
       "    </tr>\n",
       "    <tr>\n",
       "      <th>3</th>\n",
       "      <td>801</td>\n",
       "      <td>5700</td>\n",
       "      <td>292213</td>\n",
       "      <td>498172</td>\n",
       "      <td>11269953</td>\n",
       "      <td>643412</td>\n",
       "      <td>776482</td>\n",
       "      <td>11768125</td>\n",
       "      <td>0</td>\n",
       "      <td>0</td>\n",
       "      <td>1</td>\n",
       "      <td>2021-09-23T00:00:00</td>\n",
       "    </tr>\n",
       "    <tr>\n",
       "      <th>4</th>\n",
       "      <td>801</td>\n",
       "      <td>5700</td>\n",
       "      <td>276793</td>\n",
       "      <td>774965</td>\n",
       "      <td>11664467</td>\n",
       "      <td>540307</td>\n",
       "      <td>671307</td>\n",
       "      <td>12439432</td>\n",
       "      <td>0</td>\n",
       "      <td>0</td>\n",
       "      <td>1</td>\n",
       "      <td>2021-09-30T00:00:00</td>\n",
       "    </tr>\n",
       "  </tbody>\n",
       "</table>\n",
       "</div>"
      ],
      "text/plain": [
       "   commodityCode  countryCode  weeklyExports  accumulatedExports  \\\n",
       "0            801         5700              0                   0   \n",
       "1            801         5700         139752              139752   \n",
       "2            801         5700          66207              205959   \n",
       "3            801         5700         292213              498172   \n",
       "4            801         5700         276793              774965   \n",
       "\n",
       "   outstandingSales  grossNewSales  currentMYNetSales  \\\n",
       "0           9422282        1479782             764000   \n",
       "1          10227741         945267             945211   \n",
       "2          10785684         756150             624150   \n",
       "3          11269953         643412             776482   \n",
       "4          11664467         540307             671307   \n",
       "\n",
       "   currentMYTotalCommitment  nextMYOutstandingSales  nextMYNetSales  unitId  \\\n",
       "0                   9422282                       0               0       1   \n",
       "1                  10367493                       0               0       1   \n",
       "2                  10991643                       0               0       1   \n",
       "3                  11768125                       0               0       1   \n",
       "4                  12439432                       0               0       1   \n",
       "\n",
       "        weekEndingDate  \n",
       "0  2021-09-02T00:00:00  \n",
       "1  2021-09-09T00:00:00  \n",
       "2  2021-09-16T00:00:00  \n",
       "3  2021-09-23T00:00:00  \n",
       "4  2021-09-30T00:00:00  "
      ]
     },
     "execution_count": 20,
     "metadata": {},
     "output_type": "execute_result"
    }
   ],
   "source": [
    "df_china = pd.read_json(data_china.text)\n",
    "df_china.head()"
   ]
  },
  {
   "cell_type": "markdown",
   "id": "2d4ef3d5",
   "metadata": {},
   "source": [
    "# Data Frame - Exportações para o México"
   ]
  },
  {
   "cell_type": "code",
   "execution_count": 21,
   "id": "ed2f5065",
   "metadata": {},
   "outputs": [
    {
     "data": {
      "text/html": [
       "<div>\n",
       "<style scoped>\n",
       "    .dataframe tbody tr th:only-of-type {\n",
       "        vertical-align: middle;\n",
       "    }\n",
       "\n",
       "    .dataframe tbody tr th {\n",
       "        vertical-align: top;\n",
       "    }\n",
       "\n",
       "    .dataframe thead th {\n",
       "        text-align: right;\n",
       "    }\n",
       "</style>\n",
       "<table border=\"1\" class=\"dataframe\">\n",
       "  <thead>\n",
       "    <tr style=\"text-align: right;\">\n",
       "      <th></th>\n",
       "      <th>commodityCode</th>\n",
       "      <th>countryCode</th>\n",
       "      <th>weeklyExports</th>\n",
       "      <th>accumulatedExports</th>\n",
       "      <th>outstandingSales</th>\n",
       "      <th>grossNewSales</th>\n",
       "      <th>currentMYNetSales</th>\n",
       "      <th>currentMYTotalCommitment</th>\n",
       "      <th>nextMYOutstandingSales</th>\n",
       "      <th>nextMYNetSales</th>\n",
       "      <th>unitId</th>\n",
       "      <th>weekEndingDate</th>\n",
       "    </tr>\n",
       "  </thead>\n",
       "  <tbody>\n",
       "    <tr>\n",
       "      <th>0</th>\n",
       "      <td>801</td>\n",
       "      <td>2010</td>\n",
       "      <td>10519</td>\n",
       "      <td>10519</td>\n",
       "      <td>1509298</td>\n",
       "      <td>170263</td>\n",
       "      <td>79102</td>\n",
       "      <td>1519817</td>\n",
       "      <td>0</td>\n",
       "      <td>0</td>\n",
       "      <td>1</td>\n",
       "      <td>2021-09-02T00:00:00</td>\n",
       "    </tr>\n",
       "    <tr>\n",
       "      <th>1</th>\n",
       "      <td>801</td>\n",
       "      <td>2010</td>\n",
       "      <td>68670</td>\n",
       "      <td>79189</td>\n",
       "      <td>1453744</td>\n",
       "      <td>2902</td>\n",
       "      <td>13116</td>\n",
       "      <td>1532933</td>\n",
       "      <td>0</td>\n",
       "      <td>0</td>\n",
       "      <td>1</td>\n",
       "      <td>2021-09-09T00:00:00</td>\n",
       "    </tr>\n",
       "    <tr>\n",
       "      <th>2</th>\n",
       "      <td>801</td>\n",
       "      <td>2010</td>\n",
       "      <td>83841</td>\n",
       "      <td>163030</td>\n",
       "      <td>1455206</td>\n",
       "      <td>39114</td>\n",
       "      <td>85303</td>\n",
       "      <td>1618236</td>\n",
       "      <td>0</td>\n",
       "      <td>0</td>\n",
       "      <td>1</td>\n",
       "      <td>2021-09-16T00:00:00</td>\n",
       "    </tr>\n",
       "    <tr>\n",
       "      <th>3</th>\n",
       "      <td>801</td>\n",
       "      <td>2010</td>\n",
       "      <td>33913</td>\n",
       "      <td>196943</td>\n",
       "      <td>1464738</td>\n",
       "      <td>43448</td>\n",
       "      <td>43445</td>\n",
       "      <td>1661681</td>\n",
       "      <td>0</td>\n",
       "      <td>0</td>\n",
       "      <td>1</td>\n",
       "      <td>2021-09-23T00:00:00</td>\n",
       "    </tr>\n",
       "    <tr>\n",
       "      <th>4</th>\n",
       "      <td>801</td>\n",
       "      <td>2010</td>\n",
       "      <td>79189</td>\n",
       "      <td>276132</td>\n",
       "      <td>1406774</td>\n",
       "      <td>22817</td>\n",
       "      <td>21225</td>\n",
       "      <td>1682906</td>\n",
       "      <td>0</td>\n",
       "      <td>0</td>\n",
       "      <td>1</td>\n",
       "      <td>2021-09-30T00:00:00</td>\n",
       "    </tr>\n",
       "  </tbody>\n",
       "</table>\n",
       "</div>"
      ],
      "text/plain": [
       "   commodityCode  countryCode  weeklyExports  accumulatedExports  \\\n",
       "0            801         2010          10519               10519   \n",
       "1            801         2010          68670               79189   \n",
       "2            801         2010          83841              163030   \n",
       "3            801         2010          33913              196943   \n",
       "4            801         2010          79189              276132   \n",
       "\n",
       "   outstandingSales  grossNewSales  currentMYNetSales  \\\n",
       "0           1509298         170263              79102   \n",
       "1           1453744           2902              13116   \n",
       "2           1455206          39114              85303   \n",
       "3           1464738          43448              43445   \n",
       "4           1406774          22817              21225   \n",
       "\n",
       "   currentMYTotalCommitment  nextMYOutstandingSales  nextMYNetSales  unitId  \\\n",
       "0                   1519817                       0               0       1   \n",
       "1                   1532933                       0               0       1   \n",
       "2                   1618236                       0               0       1   \n",
       "3                   1661681                       0               0       1   \n",
       "4                   1682906                       0               0       1   \n",
       "\n",
       "        weekEndingDate  \n",
       "0  2021-09-02T00:00:00  \n",
       "1  2021-09-09T00:00:00  \n",
       "2  2021-09-16T00:00:00  \n",
       "3  2021-09-23T00:00:00  \n",
       "4  2021-09-30T00:00:00  "
      ]
     },
     "execution_count": 21,
     "metadata": {},
     "output_type": "execute_result"
    }
   ],
   "source": [
    "df_mexico =  pd.read_json(data_mexico.text)\n",
    "df_mexico.head()"
   ]
  },
  {
   "cell_type": "markdown",
   "id": "1ab07dda",
   "metadata": {},
   "source": [
    "# Exportando para csv "
   ]
  },
  {
   "cell_type": "code",
   "execution_count": 22,
   "id": "a1641330",
   "metadata": {},
   "outputs": [],
   "source": [
    "df_china.to_csv (r'C:\\Users\\guima\\.ipynb_checkpoints\\export_df_china.csv', index = False, header=True)"
   ]
  },
  {
   "cell_type": "code",
   "execution_count": 23,
   "id": "bc97255f",
   "metadata": {},
   "outputs": [],
   "source": [
    "df_mexico.to_csv (r'C:\\Users\\guima\\.ipynb_checkpoints\\export_df_mexico.csv', index = False, header=True)"
   ]
  },
  {
   "cell_type": "markdown",
   "id": "a4029116",
   "metadata": {},
   "source": [
    "# Idéias para continuar desenvolver em uma conversa posterior "
   ]
  },
  {
   "cell_type": "markdown",
   "id": "052b3cc1",
   "metadata": {},
   "source": [
    "# Agendar para executar os processos acima semanalmente, e.g., toda segunda-feira às 08:00. "
   ]
  },
  {
   "cell_type": "markdown",
   "id": "7596444c",
   "metadata": {},
   "source": [
    "#  Como meu sistema operacional = Windowns; pensei em utilizar o Windowns Task Schedule, o que vc acha Vinícius ? "
   ]
  }
 ],
 "metadata": {
  "kernelspec": {
   "display_name": "Python 3 (ipykernel)",
   "language": "python",
   "name": "python3"
  },
  "language_info": {
   "codemirror_mode": {
    "name": "ipython",
    "version": 3
   },
   "file_extension": ".py",
   "mimetype": "text/x-python",
   "name": "python",
   "nbconvert_exporter": "python",
   "pygments_lexer": "ipython3",
   "version": "3.9.12"
  }
 },
 "nbformat": 4,
 "nbformat_minor": 5
}
