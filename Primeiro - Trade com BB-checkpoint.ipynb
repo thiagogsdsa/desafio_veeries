{
 "cells": [
  {
   "cell_type": "code",
   "execution_count": null,
   "id": "16cf35c9",
   "metadata": {},
   "outputs": [],
   "source": [
    "# Importanto libs necessárias\n",
    "from pandas_datareader import data as pdr \n",
    "from datetime import time \n",
    "!conda install -c conda-forge multitasking\n",
    "!pip install -i https://pypi.anaconda.org/ranaroussi/simple yfinance\n",
    "import yfinance as yf \n",
    "yf.pdr_override()\n",
    "import pandas as pd \n",
    "import matplotlib.pyplot as plt \n",
    "import numpy as np \n"
   ]
  },
  {
   "cell_type": "code",
   "execution_count": null,
   "id": "89a35bb9",
   "metadata": {},
   "outputs": [],
   "source": [
    "# Configurações iniciais \n",
    "\n",
    "ticker = \"^BVSP\"\n",
    "inicio = \"2015-01-01\"\n",
    "fim = \"2021-04-12\"\n"
   ]
  },
  {
   "cell_type": "code",
   "execution_count": null,
   "id": "56297b08",
   "metadata": {},
   "outputs": [],
   "source": [
    "# Coleta de dados \n",
    "df =  pdr.get_data_yahoo(ticker, start = inicio, end = fim)"
   ]
  },
  {
   "cell_type": "code",
   "execution_count": null,
   "id": "ed87fb3d",
   "metadata": {},
   "outputs": [],
   "source": [
    "df.head()"
   ]
  },
  {
   "cell_type": "code",
   "execution_count": null,
   "id": "dbcee85f",
   "metadata": {},
   "outputs": [],
   "source": []
  },
  {
   "cell_type": "code",
   "execution_count": null,
   "id": "e8cb00b9",
   "metadata": {},
   "outputs": [],
   "source": []
  },
  {
   "cell_type": "code",
   "execution_count": null,
   "id": "dd694d8e",
   "metadata": {},
   "outputs": [],
   "source": []
  }
 ],
 "metadata": {
  "kernelspec": {
   "display_name": "Python 3 (ipykernel)",
   "language": "python",
   "name": "python3"
  },
  "language_info": {
   "codemirror_mode": {
    "name": "ipython",
    "version": 3
   },
   "file_extension": ".py",
   "mimetype": "text/x-python",
   "name": "python",
   "nbconvert_exporter": "python",
   "pygments_lexer": "ipython3",
   "version": "3.9.12"
  }
 },
 "nbformat": 4,
 "nbformat_minor": 5
}
