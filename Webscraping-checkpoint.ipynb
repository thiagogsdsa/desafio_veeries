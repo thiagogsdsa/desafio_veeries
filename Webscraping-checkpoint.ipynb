{
 "cells": [
  {
   "cell_type": "markdown",
   "id": "90e986f0",
   "metadata": {},
   "source": [
    "  Utilizar a API do ESR Data do FAS do USDA (órgão do governo dos EUA para monitorar a exportação agrícola) e desenvolver uma rotina em Python para acompanhar semanalmente as exportações dos Estados Unidos de determinada cultura para dois países, conforme abaixo:\n",
    " \n",
    "# Especificações\n",
    "\n",
    "1) Baixar histórico completo disponível na API \\\n",
    "2) Sistematizar um processo de atualização semanal\\\n",
    "3) Cultura: Soja\\\n",
    "4) Países destino: China e México\\\n",
    "5) Tempo recomendado para o desafio: 1 hora\n",
    "\n",
    "# OBS.:\n",
    "1) Para obter uma chave da API, cadastrar na plataforma do FAS no link:\n",
    "https://apps.fas.usda.gov/opendataweb/home \\\n",
    "2) Ler a documentação da API para atender as especificações \\\n",
    "3) Desenvolver uma rotina que consuma a API e disponibilize a base de dados em um\n",
    "arquivo csv (formate pensando em uma forma fácil de consumir)"
   ]
  },
  {
   "cell_type": "raw",
   "id": "a27715d9",
   "metadata": {},
   "source": [
    "import requests\n",
    "import json \n",
    "headers_dict = {\"API_KEY\": \"3ac2f199-34ca-433a-a839-46b81be88596\"}\n",
    "   # Comentarios pq deu erro abaixo             \n",
    "URL = \"https://apps.fas.usda.gov/OpenData/api/esr/countries\"\n",
    "wData = requests.get(url=URL, headers=headers_dict)\n",
    "print(type(wData))  \n",
    "json.loads(wData.text)\n",
    "\n"
   ]
  },
  {
   "cell_type": "markdown",
   "id": "5402fea1",
   "metadata": {},
   "source": []
  },
  {
   "cell_type": "code",
   "execution_count": null,
   "id": "0d5d6766",
   "metadata": {},
   "outputs": [],
   "source": []
  },
  {
   "cell_type": "code",
   "execution_count": null,
   "id": "19be7fcf",
   "metadata": {},
   "outputs": [],
   "source": []
  },
  {
   "cell_type": "code",
   "execution_count": null,
   "id": "cb8800a1",
   "metadata": {},
   "outputs": [],
   "source": []
  },
  {
   "cell_type": "code",
   "execution_count": null,
   "id": "745484fa",
   "metadata": {},
   "outputs": [],
   "source": []
  },
  {
   "cell_type": "code",
   "execution_count": null,
   "id": "270a2064",
   "metadata": {},
   "outputs": [],
   "source": []
  }
 ],
 "metadata": {
  "kernelspec": {
   "display_name": "Python 3 (ipykernel)",
   "language": "python",
   "name": "python3"
  },
  "language_info": {
   "codemirror_mode": {
    "name": "ipython",
    "version": 3
   },
   "file_extension": ".py",
   "mimetype": "text/x-python",
   "name": "python",
   "nbconvert_exporter": "python",
   "pygments_lexer": "ipython3",
   "version": "3.9.12"
  }
 },
 "nbformat": 4,
 "nbformat_minor": 5
}
