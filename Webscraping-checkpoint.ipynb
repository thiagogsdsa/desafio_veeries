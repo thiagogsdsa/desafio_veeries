{
 "cells": [
  {
   "cell_type": "markdown",
   "id": "581f78cf",
   "metadata": {},
   "source": [
    "  Utilizar a API do ESR Data do FAS do USDA (órgão do governo dos EUA para monitorar a exportação agrícola) e desenvolver uma rotina em Python para acompanhar semanalmente as exportações dos Estados Unidos de determinada cultura para dois países, conforme abaixo:\n",
    " \n",
    "# Especificações\n",
    "\n",
    "1) Baixar histórico completo disponível na API \n",
    "\n",
    "2) Sistematizar um processo de atualização semanal\n",
    "\n",
    "3) Cultura: Soja\n",
    "\n",
    "4) Países destino: China e México\n",
    "\n",
    "5) Tempo recomendado para o desafio: 1 hora\n",
    "\n",
    "# OBS.:\n",
    "\n",
    "1) Para obter uma chave da API, cadastrar na plataforma do FAS no link:\n",
    "https://apps.fas.usda.gov/opendataweb/home \n",
    "\n",
    "2) Ler a documentação da API para atender as especificações \n",
    "\n",
    "3) Desenvolver uma rotina que consuma a API e disponibilize a base de dados em um\n",
    "arquivo csv (formate pensando em uma forma fácil de consumir)"
   ]
  },
  {
   "cell_type": "markdown",
   "id": "47b98ad5",
   "metadata": {},
   "source": [
    "# Imports "
   ]
  },
  {
   "cell_type": "code",
   "execution_count": 10,
   "id": "55d6b573",
   "metadata": {},
   "outputs": [],
   "source": [
    "import requests\n",
    "import json \n",
    "import pandas as pd "
   ]
  },
  {
   "cell_type": "markdown",
   "id": "7550c672",
   "metadata": {},
   "source": [
    "# Variáveis "
   ]
  },
  {
   "cell_type": "code",
   "execution_count": 11,
   "id": "4dad6465",
   "metadata": {},
   "outputs": [],
   "source": [
    "headers_dict = {\"API_KEY\": \"3ac2f199-34ca-433a-a839-46b81be88596\"}\n",
    "url_countries = \"https://apps.fas.usda.gov/OpenData/api/esr/countries\""
   ]
  },
  {
   "cell_type": "markdown",
   "id": "87024b91",
   "metadata": {},
   "source": [
    "# Requests \n",
    " Coletando os dados dos Países "
   ]
  },
  {
   "cell_type": "code",
   "execution_count": 12,
   "id": "66a7c67c",
   "metadata": {},
   "outputs": [],
   "source": [
    "Data_countries = requests.get(url=url_countries, headers=headers_dict)  \n"
   ]
  },
  {
   "cell_type": "markdown",
   "id": "24fb435c",
   "metadata": {},
   "source": [
    "# Data frame "
   ]
  },
  {
   "cell_type": "code",
   "execution_count": 13,
   "id": "6a025243",
   "metadata": {},
   "outputs": [
    {
     "data": {
      "text/html": [
       "<div>\n",
       "<style scoped>\n",
       "    .dataframe tbody tr th:only-of-type {\n",
       "        vertical-align: middle;\n",
       "    }\n",
       "\n",
       "    .dataframe tbody tr th {\n",
       "        vertical-align: top;\n",
       "    }\n",
       "\n",
       "    .dataframe thead th {\n",
       "        text-align: right;\n",
       "    }\n",
       "</style>\n",
       "<table border=\"1\" class=\"dataframe\">\n",
       "  <thead>\n",
       "    <tr style=\"text-align: right;\">\n",
       "      <th></th>\n",
       "      <th>countryCode</th>\n",
       "      <th>countryName</th>\n",
       "      <th>countryDescription</th>\n",
       "      <th>regionId</th>\n",
       "      <th>gencCode</th>\n",
       "    </tr>\n",
       "  </thead>\n",
       "  <tbody>\n",
       "    <tr>\n",
       "      <th>0</th>\n",
       "      <td>1</td>\n",
       "      <td>EUROPEAN</td>\n",
       "      <td>EUROPEAN UNION - 27</td>\n",
       "      <td>1</td>\n",
       "      <td>None</td>\n",
       "    </tr>\n",
       "    <tr>\n",
       "      <th>1</th>\n",
       "      <td>2</td>\n",
       "      <td>UNKNOWN</td>\n",
       "      <td>UNKNOWN</td>\n",
       "      <td>99</td>\n",
       "      <td>AX1</td>\n",
       "    </tr>\n",
       "    <tr>\n",
       "      <th>2</th>\n",
       "      <td>1010</td>\n",
       "      <td>GREENLD</td>\n",
       "      <td>GREENLAND</td>\n",
       "      <td>11</td>\n",
       "      <td>GRL</td>\n",
       "    </tr>\n",
       "    <tr>\n",
       "      <th>3</th>\n",
       "      <td>1220</td>\n",
       "      <td>CANADA</td>\n",
       "      <td>CANADA</td>\n",
       "      <td>11</td>\n",
       "      <td>CAN</td>\n",
       "    </tr>\n",
       "    <tr>\n",
       "      <th>4</th>\n",
       "      <td>1610</td>\n",
       "      <td>MIGUEL</td>\n",
       "      <td>ST. PIERRE AND MIQUELON</td>\n",
       "      <td>11</td>\n",
       "      <td>None</td>\n",
       "    </tr>\n",
       "  </tbody>\n",
       "</table>\n",
       "</div>"
      ],
      "text/plain": [
       "   countryCode countryName               countryDescription  regionId gencCode\n",
       "0            1    EUROPEAN   EUROPEAN UNION - 27                    1     None\n",
       "1            2     UNKNOWN                          UNKNOWN        99      AX1\n",
       "2         1010    GREENLD   GREENLAND                              11      GRL\n",
       "3         1220    CANADA    CANADA                                 11      CAN\n",
       "4         1610    MIGUEL    ST. PIERRE AND MIQUELON                11     None"
      ]
     },
     "execution_count": 13,
     "metadata": {},
     "output_type": "execute_result"
    }
   ],
   "source": [
    "df = pd.read_json(Data_countries.text)\n",
    "df.head()"
   ]
  },
  {
   "cell_type": "markdown",
   "id": "f5f48485",
   "metadata": {},
   "source": [
    "# Checagem \"informal dos dados\"\n"
   ]
  },
  {
   "cell_type": "code",
   "execution_count": 14,
   "id": "0c2c15ea",
   "metadata": {},
   "outputs": [
    {
     "ename": "NameError",
     "evalue": "name 'wData' is not defined",
     "output_type": "error",
     "traceback": [
      "\u001b[1;31m---------------------------------------------------------------------------\u001b[0m",
      "\u001b[1;31mNameError\u001b[0m                                 Traceback (most recent call last)",
      "Input \u001b[1;32mIn [14]\u001b[0m, in \u001b[0;36m<cell line: 2>\u001b[1;34m()\u001b[0m\n\u001b[0;32m      1\u001b[0m \u001b[38;5;66;03m# Checando se existe CHINA e MEXICO dentro dos dados\u001b[39;00m\n\u001b[1;32m----> 2\u001b[0m \u001b[38;5;28mprint\u001b[39m(\u001b[38;5;124m'\u001b[39m\u001b[38;5;124mCHINA\u001b[39m\u001b[38;5;124m'\u001b[39m \u001b[38;5;129;01min\u001b[39;00m \u001b[38;5;28mstr\u001b[39m(\u001b[43mwData\u001b[49m\u001b[38;5;241m.\u001b[39mtext))\n\u001b[0;32m      3\u001b[0m \u001b[38;5;28mprint\u001b[39m(\u001b[38;5;124m'\u001b[39m\u001b[38;5;124mMEXICO\u001b[39m\u001b[38;5;124m'\u001b[39m \u001b[38;5;129;01min\u001b[39;00m \u001b[38;5;28mstr\u001b[39m(wData\u001b[38;5;241m.\u001b[39mtext))\n",
      "\u001b[1;31mNameError\u001b[0m: name 'wData' is not defined"
     ]
    }
   ],
   "source": [
    "# Checando se existe CHINA e MEXICO dentro dos dados\n",
    "print('CHINA' in str(wData.text))\n",
    "print('MEXICO' in str(wData.text))"
   ]
  },
  {
   "cell_type": "markdown",
   "id": "c0e0a231",
   "metadata": {},
   "source": [
    "# Visualização dos dados "
   ]
  },
  {
   "cell_type": "code",
   "execution_count": 15,
   "id": "09bc946b",
   "metadata": {},
   "outputs": [
    {
     "data": {
      "text/plain": [
       "'[{\"countryCode\":1,\"countryName\":\"EUROPEAN\",\"countryDescription\":\"EUROPEAN UNION - 27           \",\"regionId\":1,\"gencCode\":null},{\"countryCode\":2,\"countryName\":\"UNKNOWN\",\"countryDescription\":\"UNKNOWN\",\"regionId\":99,\"gencCode\":\"AX1\"},{\"countryCode\":1010,\"countryName\":\"GREENLD \",\"countryDescription\":\"GREENLAND                      \",\"regionId\":11,\"gencCode\":\"GRL\"},{\"countryCode\":1220,\"countryName\":\"CANADA  \",\"countryDescription\":\"CANADA                         \",\"regionId\":11,\"gencCode\":\"CAN\"},{\"countryCode\":1610,\"countryName\":\"MIGUEL  \",\"countryDescription\":\"ST. PIERRE AND MIQUELON        \",\"regionId\":11,\"gencCode\":null},{\"countryCode\":2010,\"countryName\":\"MEXICO  \",\"countryDescription\":\"MEXICO                         \",\"regionId\":11,\"gencCode\":\"MEX\"},{\"countryCode\":2050,\"countryName\":\"GUATMAL \",\"countryDescription\":\"GUATEMALA                      \",\"regionId\":11,\"gencCode\":\"GTM\"},{\"countryC'"
      ]
     },
     "execution_count": 15,
     "metadata": {},
     "output_type": "execute_result"
    }
   ],
   "source": [
    "str(Data_countries.text)[:900]\n"
   ]
  },
  {
   "cell_type": "markdown",
   "id": "24829996",
   "metadata": {},
   "source": [
    "# Limpando os dados \n",
    "Vide visualização dos dados acima, nota-se espaços em brancos extras que precisam ser removidos. \n",
    "\n",
    "\n",
    "Como trata-se de apenas uma coluna podemos usar o método abaixo:\n",
    " "
   ]
  },
  {
   "cell_type": "code",
   "execution_count": 16,
   "id": "2144bf5c",
   "metadata": {},
   "outputs": [],
   "source": [
    "# Tratando os dados: Removendo espaços  strip : \"  x   \"  ----> \"x\"\n",
    "df[\"countryName\"] = df[\"countryName\"].str.strip()"
   ]
  },
  {
   "cell_type": "markdown",
   "id": "b0c278e0",
   "metadata": {},
   "source": [
    "# Coletando os dados "
   ]
  },
  {
   "cell_type": "code",
   "execution_count": 17,
   "id": "b2c0ca80",
   "metadata": {},
   "outputs": [
    {
     "data": {
      "text/plain": [
       "127    5700\n",
       "Name: countryCode, dtype: int64"
      ]
     },
     "execution_count": 17,
     "metadata": {},
     "output_type": "execute_result"
    }
   ],
   "source": [
    "# Pegando o country_code de China \n",
    "china_countryCode = df[df['countryName'] == 'CHINA']['countryCode']\n",
    "china_countryCode"
   ]
  },
  {
   "cell_type": "code",
   "execution_count": 18,
   "id": "d09ea023",
   "metadata": {},
   "outputs": [
    {
     "data": {
      "text/plain": [
       "5    2010\n",
       "Name: countryCode, dtype: int64"
      ]
     },
     "execution_count": 18,
     "metadata": {},
     "output_type": "execute_result"
    }
   ],
   "source": [
    "# Pegando o country_code de Mexico \n",
    "mexico_countryCode = df[df['countryName'] == 'MEXICO']['countryCode']\n",
    "mexico_countryCode"
   ]
  },
  {
   "cell_type": "markdown",
   "id": "82a6cb76",
   "metadata": {},
   "source": [
    "   # Variáveis      "
   ]
  },
  {
   "cell_type": "code",
   "execution_count": 53,
   "id": "ff79941a",
   "metadata": {},
   "outputs": [],
   "source": [
    "year = 2022\n",
    "commodity = \"soy\""
   ]
  },
  {
   "cell_type": "code",
   "execution_count": 54,
   "id": "8592e4df",
   "metadata": {},
   "outputs": [],
   "source": [
    "url_china = \"https://apps.fas.usda.gov/OpenData/api/esr/exports/commodityCode/{commodity}/countryCode/{china_countryCode}/marketYear/{year}\""
   ]
  },
  {
   "cell_type": "code",
   "execution_count": 55,
   "id": "1651ca37",
   "metadata": {},
   "outputs": [],
   "source": [
    "url_mexico = \"https://apps.fas.usda.gov/OpenData/api/esr/exports/commodityCode/{commodity}/countryCode/{mexico_countryCode}/marketYear/{year}\""
   ]
  },
  {
   "cell_type": "markdown",
   "id": "f5c7364c",
   "metadata": {},
   "source": [
    "# Requests \n",
    "Coletando os dados das exportações "
   ]
  },
  {
   "cell_type": "code",
   "execution_count": 56,
   "id": "1bf9f8b7",
   "metadata": {},
   "outputs": [],
   "source": [
    "Data_china = requests.get(url=url_china, headers=headers_dict)  \n",
    "Data_mexico = requests.get(url=url_mexico, headers=headers_dict)  \n"
   ]
  },
  {
   "cell_type": "markdown",
   "id": "9fe00338",
   "metadata": {},
   "source": [
    "# Coletando os dados das exportações de soja dos EUA para China e México\n"
   ]
  },
  {
   "cell_type": "markdown",
   "id": "33e6c0e1",
   "metadata": {},
   "source": [
    "# Data Frame "
   ]
  },
  {
   "cell_type": "code",
   "execution_count": 57,
   "id": "1feadaeb",
   "metadata": {},
   "outputs": [
    {
     "name": "stdout",
     "output_type": "stream",
     "text": [
      "\n"
     ]
    }
   ],
   "source": [
    " print(str(Data_china.text))\n"
   ]
  },
  {
   "cell_type": "code",
   "execution_count": 45,
   "id": "ed2f5065",
   "metadata": {},
   "outputs": [
    {
     "ename": "ValueError",
     "evalue": "Expected object or value",
     "output_type": "error",
     "traceback": [
      "\u001b[1;31m---------------------------------------------------------------------------\u001b[0m",
      "\u001b[1;31mValueError\u001b[0m                                Traceback (most recent call last)",
      "Input \u001b[1;32mIn [45]\u001b[0m, in \u001b[0;36m<cell line: 1>\u001b[1;34m()\u001b[0m\n\u001b[1;32m----> 1\u001b[0m df_mexico \u001b[38;5;241m=\u001b[39m  \u001b[43mpd\u001b[49m\u001b[38;5;241;43m.\u001b[39;49m\u001b[43mread_json\u001b[49m\u001b[43m(\u001b[49m\u001b[43mData_mexico\u001b[49m\u001b[38;5;241;43m.\u001b[39;49m\u001b[43mtext\u001b[49m\u001b[43m)\u001b[49m\n\u001b[0;32m      2\u001b[0m df_mexico\u001b[38;5;241m.\u001b[39mhead()\n",
      "File \u001b[1;32m~\\anaconda3\\lib\\site-packages\\pandas\\util\\_decorators.py:207\u001b[0m, in \u001b[0;36mdeprecate_kwarg.<locals>._deprecate_kwarg.<locals>.wrapper\u001b[1;34m(*args, **kwargs)\u001b[0m\n\u001b[0;32m    205\u001b[0m     \u001b[38;5;28;01melse\u001b[39;00m:\n\u001b[0;32m    206\u001b[0m         kwargs[new_arg_name] \u001b[38;5;241m=\u001b[39m new_arg_value\n\u001b[1;32m--> 207\u001b[0m \u001b[38;5;28;01mreturn\u001b[39;00m func(\u001b[38;5;241m*\u001b[39margs, \u001b[38;5;241m*\u001b[39m\u001b[38;5;241m*\u001b[39mkwargs)\n",
      "File \u001b[1;32m~\\anaconda3\\lib\\site-packages\\pandas\\util\\_decorators.py:311\u001b[0m, in \u001b[0;36mdeprecate_nonkeyword_arguments.<locals>.decorate.<locals>.wrapper\u001b[1;34m(*args, **kwargs)\u001b[0m\n\u001b[0;32m    305\u001b[0m \u001b[38;5;28;01mif\u001b[39;00m \u001b[38;5;28mlen\u001b[39m(args) \u001b[38;5;241m>\u001b[39m num_allow_args:\n\u001b[0;32m    306\u001b[0m     warnings\u001b[38;5;241m.\u001b[39mwarn(\n\u001b[0;32m    307\u001b[0m         msg\u001b[38;5;241m.\u001b[39mformat(arguments\u001b[38;5;241m=\u001b[39marguments),\n\u001b[0;32m    308\u001b[0m         \u001b[38;5;167;01mFutureWarning\u001b[39;00m,\n\u001b[0;32m    309\u001b[0m         stacklevel\u001b[38;5;241m=\u001b[39mstacklevel,\n\u001b[0;32m    310\u001b[0m     )\n\u001b[1;32m--> 311\u001b[0m \u001b[38;5;28;01mreturn\u001b[39;00m func(\u001b[38;5;241m*\u001b[39margs, \u001b[38;5;241m*\u001b[39m\u001b[38;5;241m*\u001b[39mkwargs)\n",
      "File \u001b[1;32m~\\anaconda3\\lib\\site-packages\\pandas\\io\\json\\_json.py:612\u001b[0m, in \u001b[0;36mread_json\u001b[1;34m(path_or_buf, orient, typ, dtype, convert_axes, convert_dates, keep_default_dates, numpy, precise_float, date_unit, encoding, encoding_errors, lines, chunksize, compression, nrows, storage_options)\u001b[0m\n\u001b[0;32m    609\u001b[0m     \u001b[38;5;28;01mreturn\u001b[39;00m json_reader\n\u001b[0;32m    611\u001b[0m \u001b[38;5;28;01mwith\u001b[39;00m json_reader:\n\u001b[1;32m--> 612\u001b[0m     \u001b[38;5;28;01mreturn\u001b[39;00m \u001b[43mjson_reader\u001b[49m\u001b[38;5;241;43m.\u001b[39;49m\u001b[43mread\u001b[49m\u001b[43m(\u001b[49m\u001b[43m)\u001b[49m\n",
      "File \u001b[1;32m~\\anaconda3\\lib\\site-packages\\pandas\\io\\json\\_json.py:746\u001b[0m, in \u001b[0;36mJsonReader.read\u001b[1;34m(self)\u001b[0m\n\u001b[0;32m    744\u001b[0m         obj \u001b[38;5;241m=\u001b[39m \u001b[38;5;28mself\u001b[39m\u001b[38;5;241m.\u001b[39m_get_object_parser(\u001b[38;5;28mself\u001b[39m\u001b[38;5;241m.\u001b[39m_combine_lines(data_lines))\n\u001b[0;32m    745\u001b[0m \u001b[38;5;28;01melse\u001b[39;00m:\n\u001b[1;32m--> 746\u001b[0m     obj \u001b[38;5;241m=\u001b[39m \u001b[38;5;28;43mself\u001b[39;49m\u001b[38;5;241;43m.\u001b[39;49m\u001b[43m_get_object_parser\u001b[49m\u001b[43m(\u001b[49m\u001b[38;5;28;43mself\u001b[39;49m\u001b[38;5;241;43m.\u001b[39;49m\u001b[43mdata\u001b[49m\u001b[43m)\u001b[49m\n\u001b[0;32m    747\u001b[0m \u001b[38;5;28mself\u001b[39m\u001b[38;5;241m.\u001b[39mclose()\n\u001b[0;32m    748\u001b[0m \u001b[38;5;28;01mreturn\u001b[39;00m obj\n",
      "File \u001b[1;32m~\\anaconda3\\lib\\site-packages\\pandas\\io\\json\\_json.py:768\u001b[0m, in \u001b[0;36mJsonReader._get_object_parser\u001b[1;34m(self, json)\u001b[0m\n\u001b[0;32m    766\u001b[0m obj \u001b[38;5;241m=\u001b[39m \u001b[38;5;28;01mNone\u001b[39;00m\n\u001b[0;32m    767\u001b[0m \u001b[38;5;28;01mif\u001b[39;00m typ \u001b[38;5;241m==\u001b[39m \u001b[38;5;124m\"\u001b[39m\u001b[38;5;124mframe\u001b[39m\u001b[38;5;124m\"\u001b[39m:\n\u001b[1;32m--> 768\u001b[0m     obj \u001b[38;5;241m=\u001b[39m \u001b[43mFrameParser\u001b[49m\u001b[43m(\u001b[49m\u001b[43mjson\u001b[49m\u001b[43m,\u001b[49m\u001b[43m \u001b[49m\u001b[38;5;241;43m*\u001b[39;49m\u001b[38;5;241;43m*\u001b[39;49m\u001b[43mkwargs\u001b[49m\u001b[43m)\u001b[49m\u001b[38;5;241;43m.\u001b[39;49m\u001b[43mparse\u001b[49m\u001b[43m(\u001b[49m\u001b[43m)\u001b[49m\n\u001b[0;32m    770\u001b[0m \u001b[38;5;28;01mif\u001b[39;00m typ \u001b[38;5;241m==\u001b[39m \u001b[38;5;124m\"\u001b[39m\u001b[38;5;124mseries\u001b[39m\u001b[38;5;124m\"\u001b[39m \u001b[38;5;129;01mor\u001b[39;00m obj \u001b[38;5;129;01mis\u001b[39;00m \u001b[38;5;28;01mNone\u001b[39;00m:\n\u001b[0;32m    771\u001b[0m     \u001b[38;5;28;01mif\u001b[39;00m \u001b[38;5;129;01mnot\u001b[39;00m \u001b[38;5;28misinstance\u001b[39m(dtype, \u001b[38;5;28mbool\u001b[39m):\n",
      "File \u001b[1;32m~\\anaconda3\\lib\\site-packages\\pandas\\io\\json\\_json.py:880\u001b[0m, in \u001b[0;36mParser.parse\u001b[1;34m(self)\u001b[0m\n\u001b[0;32m    878\u001b[0m     \u001b[38;5;28mself\u001b[39m\u001b[38;5;241m.\u001b[39m_parse_numpy()\n\u001b[0;32m    879\u001b[0m \u001b[38;5;28;01melse\u001b[39;00m:\n\u001b[1;32m--> 880\u001b[0m     \u001b[38;5;28;43mself\u001b[39;49m\u001b[38;5;241;43m.\u001b[39;49m\u001b[43m_parse_no_numpy\u001b[49m\u001b[43m(\u001b[49m\u001b[43m)\u001b[49m\n\u001b[0;32m    882\u001b[0m \u001b[38;5;28;01mif\u001b[39;00m \u001b[38;5;28mself\u001b[39m\u001b[38;5;241m.\u001b[39mobj \u001b[38;5;129;01mis\u001b[39;00m \u001b[38;5;28;01mNone\u001b[39;00m:\n\u001b[0;32m    883\u001b[0m     \u001b[38;5;28;01mreturn\u001b[39;00m \u001b[38;5;28;01mNone\u001b[39;00m\n",
      "File \u001b[1;32m~\\anaconda3\\lib\\site-packages\\pandas\\io\\json\\_json.py:1133\u001b[0m, in \u001b[0;36mFrameParser._parse_no_numpy\u001b[1;34m(self)\u001b[0m\n\u001b[0;32m   1129\u001b[0m orient \u001b[38;5;241m=\u001b[39m \u001b[38;5;28mself\u001b[39m\u001b[38;5;241m.\u001b[39morient\n\u001b[0;32m   1131\u001b[0m \u001b[38;5;28;01mif\u001b[39;00m orient \u001b[38;5;241m==\u001b[39m \u001b[38;5;124m\"\u001b[39m\u001b[38;5;124mcolumns\u001b[39m\u001b[38;5;124m\"\u001b[39m:\n\u001b[0;32m   1132\u001b[0m     \u001b[38;5;28mself\u001b[39m\u001b[38;5;241m.\u001b[39mobj \u001b[38;5;241m=\u001b[39m DataFrame(\n\u001b[1;32m-> 1133\u001b[0m         \u001b[43mloads\u001b[49m\u001b[43m(\u001b[49m\u001b[43mjson\u001b[49m\u001b[43m,\u001b[49m\u001b[43m \u001b[49m\u001b[43mprecise_float\u001b[49m\u001b[38;5;241;43m=\u001b[39;49m\u001b[38;5;28;43mself\u001b[39;49m\u001b[38;5;241;43m.\u001b[39;49m\u001b[43mprecise_float\u001b[49m\u001b[43m)\u001b[49m, dtype\u001b[38;5;241m=\u001b[39m\u001b[38;5;28;01mNone\u001b[39;00m\n\u001b[0;32m   1134\u001b[0m     )\n\u001b[0;32m   1135\u001b[0m \u001b[38;5;28;01melif\u001b[39;00m orient \u001b[38;5;241m==\u001b[39m \u001b[38;5;124m\"\u001b[39m\u001b[38;5;124msplit\u001b[39m\u001b[38;5;124m\"\u001b[39m:\n\u001b[0;32m   1136\u001b[0m     decoded \u001b[38;5;241m=\u001b[39m {\n\u001b[0;32m   1137\u001b[0m         \u001b[38;5;28mstr\u001b[39m(k): v\n\u001b[0;32m   1138\u001b[0m         \u001b[38;5;28;01mfor\u001b[39;00m k, v \u001b[38;5;129;01min\u001b[39;00m loads(json, precise_float\u001b[38;5;241m=\u001b[39m\u001b[38;5;28mself\u001b[39m\u001b[38;5;241m.\u001b[39mprecise_float)\u001b[38;5;241m.\u001b[39mitems()\n\u001b[0;32m   1139\u001b[0m     }\n",
      "\u001b[1;31mValueError\u001b[0m: Expected object or value"
     ]
    }
   ],
   "source": [
    "df_mexico =  pd.read_json(Data_mexico.text)\n",
    "df_mexico.head()"
   ]
  },
  {
   "cell_type": "code",
   "execution_count": null,
   "id": "f99a4490",
   "metadata": {},
   "outputs": [],
   "source": []
  },
  {
   "cell_type": "code",
   "execution_count": null,
   "id": "a1641330",
   "metadata": {},
   "outputs": [],
   "source": []
  }
 ],
 "metadata": {
  "kernelspec": {
   "display_name": "Python 3 (ipykernel)",
   "language": "python",
   "name": "python3"
  },
  "language_info": {
   "codemirror_mode": {
    "name": "ipython",
    "version": 3
   },
   "file_extension": ".py",
   "mimetype": "text/x-python",
   "name": "python",
   "nbconvert_exporter": "python",
   "pygments_lexer": "ipython3",
   "version": "3.9.12"
  }
 },
 "nbformat": 4,
 "nbformat_minor": 5
}
