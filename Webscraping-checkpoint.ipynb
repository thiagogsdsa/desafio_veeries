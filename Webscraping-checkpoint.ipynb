{
 "cells": [
  {
   "cell_type": "markdown",
   "id": "581f78cf",
   "metadata": {},
   "source": [
    "  Utilizar a API do ESR Data do FAS do USDA (órgão do governo dos EUA para monitorar a exportação agrícola) e desenvolver uma rotina em Python para acompanhar semanalmente as exportações dos Estados Unidos de determinada cultura para dois países, conforme abaixo:\n",
    " \n",
    "# Especificações\n",
    "\n",
    "1) Baixar histórico completo disponível na API \n",
    "\n",
    "2) Sistematizar um processo de atualização semanal\n",
    "\n",
    "3) Cultura: Soja\n",
    "\n",
    "4) Países destino: China e México\n",
    "\n",
    "5) Tempo recomendado para o desafio: 1 hora\n",
    "\n",
    "# OBS.:\n",
    "\n",
    "1) Para obter uma chave da API, cadastrar na plataforma do FAS no link:\n",
    "https://apps.fas.usda.gov/opendataweb/home \n",
    "\n",
    "2) Ler a documentação da API para atender as especificações \n",
    "\n",
    "3) Desenvolver uma rotina que consuma a API e disponibilize a base de dados em um\n",
    "arquivo csv (formate pensando em uma forma fácil de consumir)"
   ]
  },
  {
   "cell_type": "markdown",
   "id": "47b98ad5",
   "metadata": {},
   "source": [
    "# Imports "
   ]
  },
  {
   "cell_type": "code",
   "execution_count": 39,
   "id": "55d6b573",
   "metadata": {},
   "outputs": [],
   "source": [
    "import requests\n",
    "import json \n",
    "import pandas as pd "
   ]
  },
  {
   "cell_type": "markdown",
   "id": "7550c672",
   "metadata": {},
   "source": [
    "# Variáveis "
   ]
  },
  {
   "cell_type": "code",
   "execution_count": 40,
   "id": "4dad6465",
   "metadata": {},
   "outputs": [],
   "source": [
    "headers_dict = {\"API_KEY\": \"3ac2f199-34ca-433a-a839-46b81be88596\"}\n",
    "url_countries = \"https://apps.fas.usda.gov/OpenData/api/esr/countries\"\n",
    "url_commodities = \"https://apps.fas.usda.gov/OpenData/api/esr/commodities\""
   ]
  },
  {
   "cell_type": "markdown",
   "id": "87024b91",
   "metadata": {},
   "source": [
    "# Requests "
   ]
  },
  {
   "cell_type": "code",
   "execution_count": 41,
   "id": "66a7c67c",
   "metadata": {},
   "outputs": [],
   "source": [
    "#Coletando os dados dos Países \n",
    "Data_countries = requests.get(url=url_countries, headers=headers_dict)  \n",
    "# Coletando os dados das commodities \n",
    "Data_commodities = requests.get(url=url_commodities, headers=headers_dict) "
   ]
  },
  {
   "cell_type": "markdown",
   "id": "24fb435c",
   "metadata": {},
   "source": [
    "# Data frame "
   ]
  },
  {
   "cell_type": "code",
   "execution_count": 42,
   "id": "6a025243",
   "metadata": {},
   "outputs": [
    {
     "data": {
      "text/html": [
       "<div>\n",
       "<style scoped>\n",
       "    .dataframe tbody tr th:only-of-type {\n",
       "        vertical-align: middle;\n",
       "    }\n",
       "\n",
       "    .dataframe tbody tr th {\n",
       "        vertical-align: top;\n",
       "    }\n",
       "\n",
       "    .dataframe thead th {\n",
       "        text-align: right;\n",
       "    }\n",
       "</style>\n",
       "<table border=\"1\" class=\"dataframe\">\n",
       "  <thead>\n",
       "    <tr style=\"text-align: right;\">\n",
       "      <th></th>\n",
       "      <th>countryCode</th>\n",
       "      <th>countryName</th>\n",
       "      <th>countryDescription</th>\n",
       "      <th>regionId</th>\n",
       "      <th>gencCode</th>\n",
       "    </tr>\n",
       "  </thead>\n",
       "  <tbody>\n",
       "    <tr>\n",
       "      <th>0</th>\n",
       "      <td>1</td>\n",
       "      <td>EUROPEAN</td>\n",
       "      <td>EUROPEAN UNION - 27</td>\n",
       "      <td>1</td>\n",
       "      <td>None</td>\n",
       "    </tr>\n",
       "    <tr>\n",
       "      <th>1</th>\n",
       "      <td>2</td>\n",
       "      <td>UNKNOWN</td>\n",
       "      <td>UNKNOWN</td>\n",
       "      <td>99</td>\n",
       "      <td>AX1</td>\n",
       "    </tr>\n",
       "    <tr>\n",
       "      <th>2</th>\n",
       "      <td>1010</td>\n",
       "      <td>GREENLD</td>\n",
       "      <td>GREENLAND</td>\n",
       "      <td>11</td>\n",
       "      <td>GRL</td>\n",
       "    </tr>\n",
       "    <tr>\n",
       "      <th>3</th>\n",
       "      <td>1220</td>\n",
       "      <td>CANADA</td>\n",
       "      <td>CANADA</td>\n",
       "      <td>11</td>\n",
       "      <td>CAN</td>\n",
       "    </tr>\n",
       "    <tr>\n",
       "      <th>4</th>\n",
       "      <td>1610</td>\n",
       "      <td>MIGUEL</td>\n",
       "      <td>ST. PIERRE AND MIQUELON</td>\n",
       "      <td>11</td>\n",
       "      <td>None</td>\n",
       "    </tr>\n",
       "  </tbody>\n",
       "</table>\n",
       "</div>"
      ],
      "text/plain": [
       "   countryCode countryName               countryDescription  regionId gencCode\n",
       "0            1    EUROPEAN   EUROPEAN UNION - 27                    1     None\n",
       "1            2     UNKNOWN                          UNKNOWN        99      AX1\n",
       "2         1010    GREENLD   GREENLAND                              11      GRL\n",
       "3         1220    CANADA    CANADA                                 11      CAN\n",
       "4         1610    MIGUEL    ST. PIERRE AND MIQUELON                11     None"
      ]
     },
     "execution_count": 42,
     "metadata": {},
     "output_type": "execute_result"
    }
   ],
   "source": [
    "df = pd.read_json(Data_countries.text)\n",
    "df.head()"
   ]
  },
  {
   "cell_type": "markdown",
   "id": "f5f48485",
   "metadata": {},
   "source": [
    "# Checagem \"informal dos dados\"\n"
   ]
  },
  {
   "cell_type": "code",
   "execution_count": 43,
   "id": "0c2c15ea",
   "metadata": {},
   "outputs": [
    {
     "name": "stdout",
     "output_type": "stream",
     "text": [
      "True\n",
      "True\n"
     ]
    }
   ],
   "source": [
    "# Checando se existe CHINA e MEXICO dentro dos dados\n",
    "print('CHINA' in str(Data_countries.text))\n",
    "print('MEXICO' in str(Data_countries.text))"
   ]
  },
  {
   "cell_type": "markdown",
   "id": "c0e0a231",
   "metadata": {},
   "source": [
    "# Visualização dos dados "
   ]
  },
  {
   "cell_type": "code",
   "execution_count": 44,
   "id": "09bc946b",
   "metadata": {},
   "outputs": [
    {
     "data": {
      "text/plain": [
       "'[{\"countryCode\":1,\"countryName\":\"EUROPEAN\",\"countryDescription\":\"EUROPEAN UNION - 27           \",\"regionId\":1,\"gencCode\":null},{\"countryCode\":2,\"countryName\":\"UNKNOWN\",\"countryDescription\":\"UNKNOWN\",\"regionId\":99,\"gencCode\":\"AX1\"},{\"countryCode\":1010,\"countryName\":\"GREENLD \",\"countryDescription\":\"GREENLAND                      \",\"regionId\":11,\"gencCode\":\"GRL\"},{\"countryCode\":1220,\"countryName\":\"CANADA  \",\"countryDescription\":\"CANADA                         \",\"regionId\":11,\"gencCode\":\"CAN\"},{\"countryCode\":1610,\"countryName\":\"MIGUEL  \",\"countryDescription\":\"ST. PIERRE AND MIQUELON        \",\"regionId\":11,\"gencCode\":null},{\"countryCode\":2010,\"countryName\":\"MEXICO  \",\"countryDescription\":\"MEXICO                         \",\"regionId\":11,\"gencCode\":\"MEX\"},{\"countryCode\":2050,\"countryName\":\"GUATMAL \",\"countryDescription\":\"GUATEMALA                      \",\"regionId\":11,\"gencCode\":\"GTM\"},{\"countryC'"
      ]
     },
     "execution_count": 44,
     "metadata": {},
     "output_type": "execute_result"
    }
   ],
   "source": [
    "str(Data_countries.text)[:900]\n"
   ]
  },
  {
   "cell_type": "markdown",
   "id": "24829996",
   "metadata": {},
   "source": [
    "# Limpando os dados \n",
    "Vide visualização dos dados acima, nota-se espaços em brancos extras que precisam ser removidos. \n",
    "\n",
    "\n",
    "Como trata-se de apenas uma coluna podemos usar o método abaixo:\n",
    " "
   ]
  },
  {
   "cell_type": "code",
   "execution_count": 45,
   "id": "2144bf5c",
   "metadata": {},
   "outputs": [],
   "source": [
    "# Tratando os dados: Removendo espaços   \"  x   \"  ----> \"x\"\n",
    "df[\"countryName\"] = df[\"countryName\"].str.strip()"
   ]
  },
  {
   "cell_type": "markdown",
   "id": "b0c278e0",
   "metadata": {},
   "source": [
    "# Coletando os dados "
   ]
  },
  {
   "cell_type": "code",
   "execution_count": 46,
   "id": "b2c0ca80",
   "metadata": {},
   "outputs": [
    {
     "data": {
      "text/plain": [
       "127    5700\n",
       "Name: countryCode, dtype: int64"
      ]
     },
     "execution_count": 46,
     "metadata": {},
     "output_type": "execute_result"
    }
   ],
   "source": [
    "# Pegando o country_code de China \n",
    "china_countryCode = df[df['countryName'] == 'CHINA']['countryCode']\n",
    "china_countryCode"
   ]
  },
  {
   "cell_type": "code",
   "execution_count": 47,
   "id": "d09ea023",
   "metadata": {},
   "outputs": [
    {
     "data": {
      "text/plain": [
       "5    2010\n",
       "Name: countryCode, dtype: int64"
      ]
     },
     "execution_count": 47,
     "metadata": {},
     "output_type": "execute_result"
    }
   ],
   "source": [
    "# Pegando o country_code de Mexico \n",
    "mexico_countryCode = df[df['countryName'] == 'MEXICO']['countryCode']\n",
    "mexico_countryCode"
   ]
  },
  {
   "cell_type": "markdown",
   "id": "724444b8",
   "metadata": {},
   "source": [
    "# Analogamente, repetiremos as mesmas etapas prévias para as commodities"
   ]
  },
  {
   "cell_type": "markdown",
   "id": "61582cbb",
   "metadata": {},
   "source": [
    "# Data frame "
   ]
  },
  {
   "cell_type": "code",
   "execution_count": 48,
   "id": "9fe4af91",
   "metadata": {},
   "outputs": [
    {
     "data": {
      "text/html": [
       "<div>\n",
       "<style scoped>\n",
       "    .dataframe tbody tr th:only-of-type {\n",
       "        vertical-align: middle;\n",
       "    }\n",
       "\n",
       "    .dataframe tbody tr th {\n",
       "        vertical-align: top;\n",
       "    }\n",
       "\n",
       "    .dataframe thead th {\n",
       "        text-align: right;\n",
       "    }\n",
       "</style>\n",
       "<table border=\"1\" class=\"dataframe\">\n",
       "  <thead>\n",
       "    <tr style=\"text-align: right;\">\n",
       "      <th></th>\n",
       "      <th>commodityCode</th>\n",
       "      <th>commodityName</th>\n",
       "      <th>unitId</th>\n",
       "    </tr>\n",
       "  </thead>\n",
       "  <tbody>\n",
       "    <tr>\n",
       "      <th>0</th>\n",
       "      <td>101</td>\n",
       "      <td>Wheat - HRW</td>\n",
       "      <td>1</td>\n",
       "    </tr>\n",
       "    <tr>\n",
       "      <th>1</th>\n",
       "      <td>102</td>\n",
       "      <td>Wheat - SRW</td>\n",
       "      <td>1</td>\n",
       "    </tr>\n",
       "    <tr>\n",
       "      <th>2</th>\n",
       "      <td>103</td>\n",
       "      <td>Wheat - HRS</td>\n",
       "      <td>1</td>\n",
       "    </tr>\n",
       "    <tr>\n",
       "      <th>3</th>\n",
       "      <td>104</td>\n",
       "      <td>Wheat - White</td>\n",
       "      <td>1</td>\n",
       "    </tr>\n",
       "    <tr>\n",
       "      <th>4</th>\n",
       "      <td>105</td>\n",
       "      <td>Wheat - Durum</td>\n",
       "      <td>1</td>\n",
       "    </tr>\n",
       "  </tbody>\n",
       "</table>\n",
       "</div>"
      ],
      "text/plain": [
       "   commodityCode  commodityName  unitId\n",
       "0            101    Wheat - HRW       1\n",
       "1            102    Wheat - SRW       1\n",
       "2            103    Wheat - HRS       1\n",
       "3            104  Wheat - White       1\n",
       "4            105  Wheat - Durum       1"
      ]
     },
     "execution_count": 48,
     "metadata": {},
     "output_type": "execute_result"
    }
   ],
   "source": [
    "df = pd.read_json(Data_commodities.text)\n",
    "df.head()"
   ]
  },
  {
   "cell_type": "markdown",
   "id": "a7b009cf",
   "metadata": {},
   "source": [
    "# Checagem \"informal dos dados\"\n"
   ]
  },
  {
   "cell_type": "code",
   "execution_count": 49,
   "id": "cd7f94e7",
   "metadata": {},
   "outputs": [
    {
     "name": "stdout",
     "output_type": "stream",
     "text": [
      "True\n"
     ]
    }
   ],
   "source": [
    "# Checando se existe soja dentro dos dados\n",
    "print('Soybeans' in str(Data_commodities.text))"
   ]
  },
  {
   "cell_type": "markdown",
   "id": "1b86fc11",
   "metadata": {},
   "source": [
    "# Visualização dos dados \n"
   ]
  },
  {
   "cell_type": "code",
   "execution_count": 50,
   "id": "d0ec1c4d",
   "metadata": {},
   "outputs": [
    {
     "data": {
      "text/plain": [
       "'[{\"commodityCode\":101,\"commodityName\":\"Wheat - HRW\",\"unitId\":1},{\"commodityCode\":102,\"commodityName\":\"Wheat - SRW\",\"unitId\":1},{\"commodityCode\":103,\"commodityName\":\"Wheat - HRS\",\"unitId\":1},{\"commodityCode\":104,\"commodityName\":\"Wheat - White\",\"unitId\":1},{\"commodityCode\":105,\"commodityName\":\"Wheat - Durum\",\"unitId\":1},{\"commodityCode\":106,\"commodityName\":\"Wheat - Mixed\",\"unitId\":1},{\"commodityCode\":107,\"commodityName\":\"All Wheat\",\"unitId\":1},{\"commodityCode\":201,\"commodityName\":\"Wheat Products\",\"unitId\":1},{\"commodityCode\":301,\"commodityName\":\"Barley\",\"unitId\":1},{\"commodityCode\":401,\"commodityName\":\"Corn\",\"unitId\":1},{\"commodityCode\":501,\"commodityName\":\"Rye\",\"unitId\":1},{\"commodityCode\":601,\"commodityName\":\"Oats\",\"unitId\":1},{\"commodityCode\":701,\"commodityName\":\"Sorghum\",\"unitId\":1},{\"commodityCode\":801,\"commodityName\":\"Soybeans\",\"unitId\":1},{\"commodityCode\":901,\"commodityName\":\"Soybea'"
      ]
     },
     "execution_count": 50,
     "metadata": {},
     "output_type": "execute_result"
    }
   ],
   "source": [
    "str(Data_commodities.text)[:900]"
   ]
  },
  {
   "cell_type": "markdown",
   "id": "c1d8f4c5",
   "metadata": {},
   "source": [
    "# Coletando os dados "
   ]
  },
  {
   "cell_type": "code",
   "execution_count": 51,
   "id": "579ec409",
   "metadata": {},
   "outputs": [
    {
     "data": {
      "text/plain": [
       "13    801\n",
       "Name: commodityCode, dtype: int64"
      ]
     },
     "execution_count": 51,
     "metadata": {},
     "output_type": "execute_result"
    }
   ],
   "source": [
    "# Como aparentemente, parece tudo ok com os dados acima, logo podemos coletar diretamente sem limpar os dados\n",
    "soybeans_commodityCode = df[df['commodityName'] == 'Soybeans']['commodityCode']\n",
    "soybeans_commodityCode "
   ]
  },
  {
   "cell_type": "markdown",
   "id": "3d6f5068",
   "metadata": {},
   "source": [
    "#  Coletando os dados das exportações de soja dos EUA para China e México\n"
   ]
  },
  {
   "cell_type": "markdown",
   "id": "b9cd1fe6",
   "metadata": {},
   "source": [
    "#      Parâmetros necessários \n"
   ]
  },
  {
   "cell_type": "code",
   "execution_count": 59,
   "id": "8fab10b6",
   "metadata": {},
   "outputs": [
    {
     "name": "stdout",
     "output_type": "stream",
     "text": [
      "O código da soja é\n"
     ]
    },
    {
     "data": {
      "text/plain": [
       "13    801\n",
       "Name: commodityCode, dtype: int64"
      ]
     },
     "execution_count": 59,
     "metadata": {},
     "output_type": "execute_result"
    }
   ],
   "source": [
    "print(\"O código da soja é\")\n",
    "soybeans_commodityCode"
   ]
  },
  {
   "cell_type": "code",
   "execution_count": 60,
   "id": "123fa85a",
   "metadata": {},
   "outputs": [
    {
     "name": "stdout",
     "output_type": "stream",
     "text": [
      "O código da China é\n"
     ]
    },
    {
     "data": {
      "text/plain": [
       "127    5700\n",
       "Name: countryCode, dtype: int64"
      ]
     },
     "execution_count": 60,
     "metadata": {},
     "output_type": "execute_result"
    }
   ],
   "source": [
    "print(\"O código da China é\")\n",
    "china_countryCode"
   ]
  },
  {
   "cell_type": "code",
   "execution_count": 61,
   "id": "fe0f2658",
   "metadata": {},
   "outputs": [
    {
     "name": "stdout",
     "output_type": "stream",
     "text": [
      "O código do México é\n"
     ]
    },
    {
     "data": {
      "text/plain": [
       "5    2010\n",
       "Name: countryCode, dtype: int64"
      ]
     },
     "execution_count": 61,
     "metadata": {},
     "output_type": "execute_result"
    }
   ],
   "source": [
    "print(\"O código do México é\")\n",
    "mexico_countryCode"
   ]
  },
  {
   "cell_type": "markdown",
   "id": "efba973a",
   "metadata": {},
   "source": [
    "# Links com os parâmetros acima "
   ]
  },
  {
   "cell_type": "code",
   "execution_count": 62,
   "id": "c39a2bbf",
   "metadata": {},
   "outputs": [],
   "source": [
    "url_china = f\"https://apps.fas.usda.gov/OpenData/api/esr/exports/commodityCode/801/countryCode/5700/marketYear/2022\""
   ]
  },
  {
   "cell_type": "code",
   "execution_count": 63,
   "id": "50b28496",
   "metadata": {},
   "outputs": [],
   "source": [
    "url_mexico = f\"https://apps.fas.usda.gov/OpenData/api/esr/exports/commodityCode/801/countryCode/2010/marketYear/2022\""
   ]
  },
  {
   "cell_type": "markdown",
   "id": "ade86fa7",
   "metadata": {},
   "source": [
    "# Requests "
   ]
  },
  {
   "cell_type": "code",
   "execution_count": 64,
   "id": "5a497d0b",
   "metadata": {},
   "outputs": [],
   "source": [
    "#Coletando os dados requeridos das exportações: \n",
    "Data_china = requests.get(url=url_china, headers=headers_dict)  \n",
    "Data_mexico = requests.get(url=url_mexico, headers=headers_dict)  "
   ]
  },
  {
   "cell_type": "markdown",
   "id": "af5180b6",
   "metadata": {},
   "source": [
    "# Data Frame - Exportações para a China "
   ]
  },
  {
   "cell_type": "code",
   "execution_count": 66,
   "id": "1feadaeb",
   "metadata": {},
   "outputs": [
    {
     "data": {
      "text/html": [
       "<div>\n",
       "<style scoped>\n",
       "    .dataframe tbody tr th:only-of-type {\n",
       "        vertical-align: middle;\n",
       "    }\n",
       "\n",
       "    .dataframe tbody tr th {\n",
       "        vertical-align: top;\n",
       "    }\n",
       "\n",
       "    .dataframe thead th {\n",
       "        text-align: right;\n",
       "    }\n",
       "</style>\n",
       "<table border=\"1\" class=\"dataframe\">\n",
       "  <thead>\n",
       "    <tr style=\"text-align: right;\">\n",
       "      <th></th>\n",
       "      <th>commodityCode</th>\n",
       "      <th>countryCode</th>\n",
       "      <th>weeklyExports</th>\n",
       "      <th>accumulatedExports</th>\n",
       "      <th>outstandingSales</th>\n",
       "      <th>grossNewSales</th>\n",
       "      <th>currentMYNetSales</th>\n",
       "      <th>currentMYTotalCommitment</th>\n",
       "      <th>nextMYOutstandingSales</th>\n",
       "      <th>nextMYNetSales</th>\n",
       "      <th>unitId</th>\n",
       "      <th>weekEndingDate</th>\n",
       "    </tr>\n",
       "  </thead>\n",
       "  <tbody>\n",
       "    <tr>\n",
       "      <th>0</th>\n",
       "      <td>801</td>\n",
       "      <td>5700</td>\n",
       "      <td>0</td>\n",
       "      <td>0</td>\n",
       "      <td>9422282</td>\n",
       "      <td>1479782</td>\n",
       "      <td>764000</td>\n",
       "      <td>9422282</td>\n",
       "      <td>0</td>\n",
       "      <td>0</td>\n",
       "      <td>1</td>\n",
       "      <td>2021-09-02T00:00:00</td>\n",
       "    </tr>\n",
       "    <tr>\n",
       "      <th>1</th>\n",
       "      <td>801</td>\n",
       "      <td>5700</td>\n",
       "      <td>139752</td>\n",
       "      <td>139752</td>\n",
       "      <td>10227741</td>\n",
       "      <td>945267</td>\n",
       "      <td>945211</td>\n",
       "      <td>10367493</td>\n",
       "      <td>0</td>\n",
       "      <td>0</td>\n",
       "      <td>1</td>\n",
       "      <td>2021-09-09T00:00:00</td>\n",
       "    </tr>\n",
       "    <tr>\n",
       "      <th>2</th>\n",
       "      <td>801</td>\n",
       "      <td>5700</td>\n",
       "      <td>66207</td>\n",
       "      <td>205959</td>\n",
       "      <td>10785684</td>\n",
       "      <td>756150</td>\n",
       "      <td>624150</td>\n",
       "      <td>10991643</td>\n",
       "      <td>0</td>\n",
       "      <td>0</td>\n",
       "      <td>1</td>\n",
       "      <td>2021-09-16T00:00:00</td>\n",
       "    </tr>\n",
       "    <tr>\n",
       "      <th>3</th>\n",
       "      <td>801</td>\n",
       "      <td>5700</td>\n",
       "      <td>292213</td>\n",
       "      <td>498172</td>\n",
       "      <td>11269953</td>\n",
       "      <td>643412</td>\n",
       "      <td>776482</td>\n",
       "      <td>11768125</td>\n",
       "      <td>0</td>\n",
       "      <td>0</td>\n",
       "      <td>1</td>\n",
       "      <td>2021-09-23T00:00:00</td>\n",
       "    </tr>\n",
       "    <tr>\n",
       "      <th>4</th>\n",
       "      <td>801</td>\n",
       "      <td>5700</td>\n",
       "      <td>276793</td>\n",
       "      <td>774965</td>\n",
       "      <td>11664467</td>\n",
       "      <td>540307</td>\n",
       "      <td>671307</td>\n",
       "      <td>12439432</td>\n",
       "      <td>0</td>\n",
       "      <td>0</td>\n",
       "      <td>1</td>\n",
       "      <td>2021-09-30T00:00:00</td>\n",
       "    </tr>\n",
       "    <tr>\n",
       "      <th>5</th>\n",
       "      <td>801</td>\n",
       "      <td>5700</td>\n",
       "      <td>1285471</td>\n",
       "      <td>2060436</td>\n",
       "      <td>11019009</td>\n",
       "      <td>381153</td>\n",
       "      <td>640013</td>\n",
       "      <td>13079445</td>\n",
       "      <td>0</td>\n",
       "      <td>0</td>\n",
       "      <td>1</td>\n",
       "      <td>2021-10-07T00:00:00</td>\n",
       "    </tr>\n",
       "    <tr>\n",
       "      <th>6</th>\n",
       "      <td>801</td>\n",
       "      <td>5700</td>\n",
       "      <td>1659520</td>\n",
       "      <td>3719956</td>\n",
       "      <td>11243894</td>\n",
       "      <td>1364746</td>\n",
       "      <td>1884405</td>\n",
       "      <td>14963850</td>\n",
       "      <td>0</td>\n",
       "      <td>0</td>\n",
       "      <td>1</td>\n",
       "      <td>2021-10-14T00:00:00</td>\n",
       "    </tr>\n",
       "    <tr>\n",
       "      <th>7</th>\n",
       "      <td>801</td>\n",
       "      <td>5700</td>\n",
       "      <td>1790614</td>\n",
       "      <td>5510570</td>\n",
       "      <td>10534266</td>\n",
       "      <td>591320</td>\n",
       "      <td>1080986</td>\n",
       "      <td>16044836</td>\n",
       "      <td>0</td>\n",
       "      <td>0</td>\n",
       "      <td>1</td>\n",
       "      <td>2021-10-21T00:00:00</td>\n",
       "    </tr>\n",
       "    <tr>\n",
       "      <th>8</th>\n",
       "      <td>801</td>\n",
       "      <td>5700</td>\n",
       "      <td>1864486</td>\n",
       "      <td>7375056</td>\n",
       "      <td>9877104</td>\n",
       "      <td>775283</td>\n",
       "      <td>1207324</td>\n",
       "      <td>17252160</td>\n",
       "      <td>0</td>\n",
       "      <td>0</td>\n",
       "      <td>1</td>\n",
       "      <td>2021-10-28T00:00:00</td>\n",
       "    </tr>\n",
       "    <tr>\n",
       "      <th>9</th>\n",
       "      <td>801</td>\n",
       "      <td>5700</td>\n",
       "      <td>2267748</td>\n",
       "      <td>9642804</td>\n",
       "      <td>8478638</td>\n",
       "      <td>371323</td>\n",
       "      <td>869282</td>\n",
       "      <td>18121442</td>\n",
       "      <td>0</td>\n",
       "      <td>0</td>\n",
       "      <td>1</td>\n",
       "      <td>2021-11-04T00:00:00</td>\n",
       "    </tr>\n",
       "  </tbody>\n",
       "</table>\n",
       "</div>"
      ],
      "text/plain": [
       "   commodityCode  countryCode  weeklyExports  accumulatedExports  \\\n",
       "0            801         5700              0                   0   \n",
       "1            801         5700         139752              139752   \n",
       "2            801         5700          66207              205959   \n",
       "3            801         5700         292213              498172   \n",
       "4            801         5700         276793              774965   \n",
       "5            801         5700        1285471             2060436   \n",
       "6            801         5700        1659520             3719956   \n",
       "7            801         5700        1790614             5510570   \n",
       "8            801         5700        1864486             7375056   \n",
       "9            801         5700        2267748             9642804   \n",
       "\n",
       "   outstandingSales  grossNewSales  currentMYNetSales  \\\n",
       "0           9422282        1479782             764000   \n",
       "1          10227741         945267             945211   \n",
       "2          10785684         756150             624150   \n",
       "3          11269953         643412             776482   \n",
       "4          11664467         540307             671307   \n",
       "5          11019009         381153             640013   \n",
       "6          11243894        1364746            1884405   \n",
       "7          10534266         591320            1080986   \n",
       "8           9877104         775283            1207324   \n",
       "9           8478638         371323             869282   \n",
       "\n",
       "   currentMYTotalCommitment  nextMYOutstandingSales  nextMYNetSales  unitId  \\\n",
       "0                   9422282                       0               0       1   \n",
       "1                  10367493                       0               0       1   \n",
       "2                  10991643                       0               0       1   \n",
       "3                  11768125                       0               0       1   \n",
       "4                  12439432                       0               0       1   \n",
       "5                  13079445                       0               0       1   \n",
       "6                  14963850                       0               0       1   \n",
       "7                  16044836                       0               0       1   \n",
       "8                  17252160                       0               0       1   \n",
       "9                  18121442                       0               0       1   \n",
       "\n",
       "        weekEndingDate  \n",
       "0  2021-09-02T00:00:00  \n",
       "1  2021-09-09T00:00:00  \n",
       "2  2021-09-16T00:00:00  \n",
       "3  2021-09-23T00:00:00  \n",
       "4  2021-09-30T00:00:00  \n",
       "5  2021-10-07T00:00:00  \n",
       "6  2021-10-14T00:00:00  \n",
       "7  2021-10-21T00:00:00  \n",
       "8  2021-10-28T00:00:00  \n",
       "9  2021-11-04T00:00:00  "
      ]
     },
     "execution_count": 66,
     "metadata": {},
     "output_type": "execute_result"
    }
   ],
   "source": [
    "df = pd.read_json(Data_china.text)\n",
    "df.head(10)"
   ]
  },
  {
   "cell_type": "markdown",
   "id": "69a8d888",
   "metadata": {},
   "source": [
    "# Data Frame - Exportações para o México"
   ]
  },
  {
   "cell_type": "code",
   "execution_count": 68,
   "id": "ed2f5065",
   "metadata": {},
   "outputs": [
    {
     "data": {
      "text/html": [
       "<div>\n",
       "<style scoped>\n",
       "    .dataframe tbody tr th:only-of-type {\n",
       "        vertical-align: middle;\n",
       "    }\n",
       "\n",
       "    .dataframe tbody tr th {\n",
       "        vertical-align: top;\n",
       "    }\n",
       "\n",
       "    .dataframe thead th {\n",
       "        text-align: right;\n",
       "    }\n",
       "</style>\n",
       "<table border=\"1\" class=\"dataframe\">\n",
       "  <thead>\n",
       "    <tr style=\"text-align: right;\">\n",
       "      <th></th>\n",
       "      <th>commodityCode</th>\n",
       "      <th>countryCode</th>\n",
       "      <th>weeklyExports</th>\n",
       "      <th>accumulatedExports</th>\n",
       "      <th>outstandingSales</th>\n",
       "      <th>grossNewSales</th>\n",
       "      <th>currentMYNetSales</th>\n",
       "      <th>currentMYTotalCommitment</th>\n",
       "      <th>nextMYOutstandingSales</th>\n",
       "      <th>nextMYNetSales</th>\n",
       "      <th>unitId</th>\n",
       "      <th>weekEndingDate</th>\n",
       "    </tr>\n",
       "  </thead>\n",
       "  <tbody>\n",
       "    <tr>\n",
       "      <th>0</th>\n",
       "      <td>801</td>\n",
       "      <td>2010</td>\n",
       "      <td>10519</td>\n",
       "      <td>10519</td>\n",
       "      <td>1509298</td>\n",
       "      <td>170263</td>\n",
       "      <td>79102</td>\n",
       "      <td>1519817</td>\n",
       "      <td>0</td>\n",
       "      <td>0</td>\n",
       "      <td>1</td>\n",
       "      <td>2021-09-02T00:00:00</td>\n",
       "    </tr>\n",
       "    <tr>\n",
       "      <th>1</th>\n",
       "      <td>801</td>\n",
       "      <td>2010</td>\n",
       "      <td>68670</td>\n",
       "      <td>79189</td>\n",
       "      <td>1453744</td>\n",
       "      <td>2902</td>\n",
       "      <td>13116</td>\n",
       "      <td>1532933</td>\n",
       "      <td>0</td>\n",
       "      <td>0</td>\n",
       "      <td>1</td>\n",
       "      <td>2021-09-09T00:00:00</td>\n",
       "    </tr>\n",
       "    <tr>\n",
       "      <th>2</th>\n",
       "      <td>801</td>\n",
       "      <td>2010</td>\n",
       "      <td>83841</td>\n",
       "      <td>163030</td>\n",
       "      <td>1455206</td>\n",
       "      <td>39114</td>\n",
       "      <td>85303</td>\n",
       "      <td>1618236</td>\n",
       "      <td>0</td>\n",
       "      <td>0</td>\n",
       "      <td>1</td>\n",
       "      <td>2021-09-16T00:00:00</td>\n",
       "    </tr>\n",
       "    <tr>\n",
       "      <th>3</th>\n",
       "      <td>801</td>\n",
       "      <td>2010</td>\n",
       "      <td>33913</td>\n",
       "      <td>196943</td>\n",
       "      <td>1464738</td>\n",
       "      <td>43448</td>\n",
       "      <td>43445</td>\n",
       "      <td>1661681</td>\n",
       "      <td>0</td>\n",
       "      <td>0</td>\n",
       "      <td>1</td>\n",
       "      <td>2021-09-23T00:00:00</td>\n",
       "    </tr>\n",
       "    <tr>\n",
       "      <th>4</th>\n",
       "      <td>801</td>\n",
       "      <td>2010</td>\n",
       "      <td>79189</td>\n",
       "      <td>276132</td>\n",
       "      <td>1406774</td>\n",
       "      <td>22817</td>\n",
       "      <td>21225</td>\n",
       "      <td>1682906</td>\n",
       "      <td>0</td>\n",
       "      <td>0</td>\n",
       "      <td>1</td>\n",
       "      <td>2021-09-30T00:00:00</td>\n",
       "    </tr>\n",
       "    <tr>\n",
       "      <th>5</th>\n",
       "      <td>801</td>\n",
       "      <td>2010</td>\n",
       "      <td>68881</td>\n",
       "      <td>345013</td>\n",
       "      <td>1611742</td>\n",
       "      <td>274438</td>\n",
       "      <td>273849</td>\n",
       "      <td>1956755</td>\n",
       "      <td>0</td>\n",
       "      <td>0</td>\n",
       "      <td>1</td>\n",
       "      <td>2021-10-07T00:00:00</td>\n",
       "    </tr>\n",
       "    <tr>\n",
       "      <th>6</th>\n",
       "      <td>801</td>\n",
       "      <td>2010</td>\n",
       "      <td>97526</td>\n",
       "      <td>442539</td>\n",
       "      <td>1524418</td>\n",
       "      <td>10832</td>\n",
       "      <td>10202</td>\n",
       "      <td>1966957</td>\n",
       "      <td>0</td>\n",
       "      <td>0</td>\n",
       "      <td>1</td>\n",
       "      <td>2021-10-14T00:00:00</td>\n",
       "    </tr>\n",
       "    <tr>\n",
       "      <th>7</th>\n",
       "      <td>801</td>\n",
       "      <td>2010</td>\n",
       "      <td>187615</td>\n",
       "      <td>630154</td>\n",
       "      <td>1430708</td>\n",
       "      <td>99703</td>\n",
       "      <td>93905</td>\n",
       "      <td>2060862</td>\n",
       "      <td>0</td>\n",
       "      <td>0</td>\n",
       "      <td>1</td>\n",
       "      <td>2021-10-21T00:00:00</td>\n",
       "    </tr>\n",
       "    <tr>\n",
       "      <th>8</th>\n",
       "      <td>801</td>\n",
       "      <td>2010</td>\n",
       "      <td>178648</td>\n",
       "      <td>808802</td>\n",
       "      <td>1409422</td>\n",
       "      <td>158471</td>\n",
       "      <td>157362</td>\n",
       "      <td>2218224</td>\n",
       "      <td>0</td>\n",
       "      <td>0</td>\n",
       "      <td>1</td>\n",
       "      <td>2021-10-28T00:00:00</td>\n",
       "    </tr>\n",
       "    <tr>\n",
       "      <th>9</th>\n",
       "      <td>801</td>\n",
       "      <td>2010</td>\n",
       "      <td>87270</td>\n",
       "      <td>896072</td>\n",
       "      <td>1402818</td>\n",
       "      <td>80981</td>\n",
       "      <td>80666</td>\n",
       "      <td>2298890</td>\n",
       "      <td>0</td>\n",
       "      <td>0</td>\n",
       "      <td>1</td>\n",
       "      <td>2021-11-04T00:00:00</td>\n",
       "    </tr>\n",
       "  </tbody>\n",
       "</table>\n",
       "</div>"
      ],
      "text/plain": [
       "   commodityCode  countryCode  weeklyExports  accumulatedExports  \\\n",
       "0            801         2010          10519               10519   \n",
       "1            801         2010          68670               79189   \n",
       "2            801         2010          83841              163030   \n",
       "3            801         2010          33913              196943   \n",
       "4            801         2010          79189              276132   \n",
       "5            801         2010          68881              345013   \n",
       "6            801         2010          97526              442539   \n",
       "7            801         2010         187615              630154   \n",
       "8            801         2010         178648              808802   \n",
       "9            801         2010          87270              896072   \n",
       "\n",
       "   outstandingSales  grossNewSales  currentMYNetSales  \\\n",
       "0           1509298         170263              79102   \n",
       "1           1453744           2902              13116   \n",
       "2           1455206          39114              85303   \n",
       "3           1464738          43448              43445   \n",
       "4           1406774          22817              21225   \n",
       "5           1611742         274438             273849   \n",
       "6           1524418          10832              10202   \n",
       "7           1430708          99703              93905   \n",
       "8           1409422         158471             157362   \n",
       "9           1402818          80981              80666   \n",
       "\n",
       "   currentMYTotalCommitment  nextMYOutstandingSales  nextMYNetSales  unitId  \\\n",
       "0                   1519817                       0               0       1   \n",
       "1                   1532933                       0               0       1   \n",
       "2                   1618236                       0               0       1   \n",
       "3                   1661681                       0               0       1   \n",
       "4                   1682906                       0               0       1   \n",
       "5                   1956755                       0               0       1   \n",
       "6                   1966957                       0               0       1   \n",
       "7                   2060862                       0               0       1   \n",
       "8                   2218224                       0               0       1   \n",
       "9                   2298890                       0               0       1   \n",
       "\n",
       "        weekEndingDate  \n",
       "0  2021-09-02T00:00:00  \n",
       "1  2021-09-09T00:00:00  \n",
       "2  2021-09-16T00:00:00  \n",
       "3  2021-09-23T00:00:00  \n",
       "4  2021-09-30T00:00:00  \n",
       "5  2021-10-07T00:00:00  \n",
       "6  2021-10-14T00:00:00  \n",
       "7  2021-10-21T00:00:00  \n",
       "8  2021-10-28T00:00:00  \n",
       "9  2021-11-04T00:00:00  "
      ]
     },
     "execution_count": 68,
     "metadata": {},
     "output_type": "execute_result"
    }
   ],
   "source": [
    "df_mexico =  pd.read_json(Data_mexico.text)\n",
    "df_mexico.head(10)"
   ]
  },
  {
   "cell_type": "code",
   "execution_count": null,
   "id": "f99a4490",
   "metadata": {},
   "outputs": [],
   "source": []
  },
  {
   "cell_type": "code",
   "execution_count": null,
   "id": "a1641330",
   "metadata": {},
   "outputs": [],
   "source": []
  },
  {
   "cell_type": "code",
   "execution_count": null,
   "id": "bc97255f",
   "metadata": {},
   "outputs": [],
   "source": []
  },
  {
   "cell_type": "code",
   "execution_count": null,
   "id": "187a5792",
   "metadata": {},
   "outputs": [],
   "source": []
  }
 ],
 "metadata": {
  "kernelspec": {
   "display_name": "Python 3 (ipykernel)",
   "language": "python",
   "name": "python3"
  },
  "language_info": {
   "codemirror_mode": {
    "name": "ipython",
    "version": 3
   },
   "file_extension": ".py",
   "mimetype": "text/x-python",
   "name": "python",
   "nbconvert_exporter": "python",
   "pygments_lexer": "ipython3",
   "version": "3.9.12"
  }
 },
 "nbformat": 4,
 "nbformat_minor": 5
}
