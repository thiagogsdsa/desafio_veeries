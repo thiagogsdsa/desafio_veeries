{
 "cells": [
  {
   "cell_type": "code",
   "execution_count": 6,
   "id": "101e0101",
   "metadata": {},
   "outputs": [],
   "source": [
    "import requests\n",
    "import json \n",
    "headers_dict = {\"API_KEY\": #3ac2f199-34ca-433a-a839-46b81be88596\"}\n",
    "#URL = \"API Endpoint\"\n",
    "#wData = requests.get(url=URL, headers=headers_dict)"
   ]
  },
  {
   "cell_type": "code",
   "execution_count": null,
   "id": "b85030af",
   "metadata": {},
   "outputs": [],
   "source": []
  },
  {
   "cell_type": "code",
   "execution_count": null,
   "id": "0d5d6766",
   "metadata": {},
   "outputs": [],
   "source": []
  },
  {
   "cell_type": "code",
   "execution_count": null,
   "id": "24120092",
   "metadata": {},
   "outputs": [],
   "source": []
  },
  {
   "cell_type": "code",
   "execution_count": null,
   "id": "a59457a5",
   "metadata": {},
   "outputs": [],
   "source": []
  }
 ],
 "metadata": {
  "kernelspec": {
   "display_name": "Python 3 (ipykernel)",
   "language": "python",
   "name": "python3"
  },
  "language_info": {
   "codemirror_mode": {
    "name": "ipython",
    "version": 3
   },
   "file_extension": ".py",
   "mimetype": "text/x-python",
   "name": "python",
   "nbconvert_exporter": "python",
   "pygments_lexer": "ipython3",
   "version": "3.9.12"
  }
 },
 "nbformat": 4,
 "nbformat_minor": 5
}
