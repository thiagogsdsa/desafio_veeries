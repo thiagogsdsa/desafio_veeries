{
 "cells": [
  {
   "cell_type": "markdown",
   "id": "581f78cf",
   "metadata": {},
   "source": [
    "  Utilizar a API do ESR Data do FAS do USDA (órgão do governo dos EUA para monitorar a exportação agrícola) e desenvolver uma rotina em Python para acompanhar semanalmente as exportações dos Estados Unidos de determinada cultura para dois países, conforme abaixo:\n",
    " \n",
    "# Especificações\n",
    "\n",
    "1) Baixar histórico completo disponível na API \\\n",
    "2) Sistematizar um processo de atualização semanal\\\n",
    "3) Cultura: Soja\\\n",
    "4) Países destino: China e México\\\n",
    "5) Tempo recomendado para o desafio: 1 hora\n",
    "\n",
    "# OBS.:\n",
    "1) Para obter uma chave da API, cadastrar na plataforma do FAS no link:\n",
    "https://apps.fas.usda.gov/opendataweb/home \\\n",
    "2) Ler a documentação da API para atender as especificações \\\n",
    "3) Desenvolver uma rotina que consuma a API e disponibilize a base de dados em um\n",
    "arquivo csv (formate pensando em uma forma fácil de consumir)"
   ]
  },
  {
   "cell_type": "markdown",
   "id": "47b98ad5",
   "metadata": {},
   "source": [
    "# Imports "
   ]
  },
  {
   "cell_type": "code",
   "execution_count": 46,
   "id": "55d6b573",
   "metadata": {},
   "outputs": [],
   "source": [
    "import requests\n",
    "import json \n",
    "import pandas as pd "
   ]
  },
  {
   "cell_type": "markdown",
   "id": "7550c672",
   "metadata": {},
   "source": [
    "# Variáveis "
   ]
  },
  {
   "cell_type": "code",
   "execution_count": 49,
   "id": "4dad6465",
   "metadata": {},
   "outputs": [],
   "source": [
    "headers_dict = {\"API_KEY\": \"3ac2f199-34ca-433a-a839-46b81be88596\"}\n",
    "url_countries = \"https://apps.fas.usda.gov/OpenData/api/esr/countries\""
   ]
  },
  {
   "cell_type": "markdown",
   "id": "87024b91",
   "metadata": {},
   "source": [
    "# Requests \n",
    " Coletando os dados dos Países "
   ]
  },
  {
   "cell_type": "code",
   "execution_count": 52,
   "id": "66a7c67c",
   "metadata": {},
   "outputs": [],
   "source": [
    "Data_countries = requests.get(url=url_countries, headers=headers_dict)  \n"
   ]
  },
  {
   "cell_type": "markdown",
   "id": "24fb435c",
   "metadata": {},
   "source": [
    "# Data frame "
   ]
  },
  {
   "cell_type": "code",
   "execution_count": 54,
   "id": "6a025243",
   "metadata": {},
   "outputs": [
    {
     "data": {
      "text/html": [
       "<div>\n",
       "<style scoped>\n",
       "    .dataframe tbody tr th:only-of-type {\n",
       "        vertical-align: middle;\n",
       "    }\n",
       "\n",
       "    .dataframe tbody tr th {\n",
       "        vertical-align: top;\n",
       "    }\n",
       "\n",
       "    .dataframe thead th {\n",
       "        text-align: right;\n",
       "    }\n",
       "</style>\n",
       "<table border=\"1\" class=\"dataframe\">\n",
       "  <thead>\n",
       "    <tr style=\"text-align: right;\">\n",
       "      <th></th>\n",
       "      <th>countryCode</th>\n",
       "      <th>countryName</th>\n",
       "      <th>countryDescription</th>\n",
       "      <th>regionId</th>\n",
       "      <th>gencCode</th>\n",
       "    </tr>\n",
       "  </thead>\n",
       "  <tbody>\n",
       "    <tr>\n",
       "      <th>0</th>\n",
       "      <td>1</td>\n",
       "      <td>EUROPEAN</td>\n",
       "      <td>EUROPEAN UNION - 27</td>\n",
       "      <td>1</td>\n",
       "      <td>None</td>\n",
       "    </tr>\n",
       "    <tr>\n",
       "      <th>1</th>\n",
       "      <td>2</td>\n",
       "      <td>UNKNOWN</td>\n",
       "      <td>UNKNOWN</td>\n",
       "      <td>99</td>\n",
       "      <td>AX1</td>\n",
       "    </tr>\n",
       "    <tr>\n",
       "      <th>2</th>\n",
       "      <td>1010</td>\n",
       "      <td>GREENLD</td>\n",
       "      <td>GREENLAND</td>\n",
       "      <td>11</td>\n",
       "      <td>GRL</td>\n",
       "    </tr>\n",
       "    <tr>\n",
       "      <th>3</th>\n",
       "      <td>1220</td>\n",
       "      <td>CANADA</td>\n",
       "      <td>CANADA</td>\n",
       "      <td>11</td>\n",
       "      <td>CAN</td>\n",
       "    </tr>\n",
       "    <tr>\n",
       "      <th>4</th>\n",
       "      <td>1610</td>\n",
       "      <td>MIGUEL</td>\n",
       "      <td>ST. PIERRE AND MIQUELON</td>\n",
       "      <td>11</td>\n",
       "      <td>None</td>\n",
       "    </tr>\n",
       "  </tbody>\n",
       "</table>\n",
       "</div>"
      ],
      "text/plain": [
       "   countryCode countryName               countryDescription  regionId gencCode\n",
       "0            1    EUROPEAN   EUROPEAN UNION - 27                    1     None\n",
       "1            2     UNKNOWN                          UNKNOWN        99      AX1\n",
       "2         1010    GREENLD   GREENLAND                              11      GRL\n",
       "3         1220    CANADA    CANADA                                 11      CAN\n",
       "4         1610    MIGUEL    ST. PIERRE AND MIQUELON                11     None"
      ]
     },
     "execution_count": 54,
     "metadata": {},
     "output_type": "execute_result"
    }
   ],
   "source": [
    "df = pd.read_json(Data_countries.text)\n",
    "df.head()"
   ]
  },
  {
   "cell_type": "markdown",
   "id": "f5f48485",
   "metadata": {},
   "source": [
    "# Checagem \"informal dos dados\"\n"
   ]
  },
  {
   "cell_type": "code",
   "execution_count": 55,
   "id": "0c2c15ea",
   "metadata": {},
   "outputs": [
    {
     "name": "stdout",
     "output_type": "stream",
     "text": [
      "True\n",
      "True\n"
     ]
    }
   ],
   "source": [
    "# Checando se existe CHINA e MEXICO dentro dos dados\n",
    "print('CHINA' in str(wData.text))\n",
    "print('MEXICO' in str(wData.text))"
   ]
  },
  {
   "cell_type": "markdown",
   "id": "c0e0a231",
   "metadata": {},
   "source": [
    "# Visualização dos dados "
   ]
  },
  {
   "cell_type": "code",
   "execution_count": 56,
   "id": "09bc946b",
   "metadata": {},
   "outputs": [
    {
     "data": {
      "text/plain": [
       "'[{\"countryCode\":1,\"countryName\":\"EUROPEAN\",\"countryDescription\":\"EUROPEAN UNION - 27           \",\"regionId\":1,\"gencCode\":null},{\"countryCode\":2,\"countryName\":\"UNKNOWN\",\"countryDescription\":\"UNKNOWN\",\"regionId\":99,\"gencCode\":\"AX1\"},{\"countryCode\":1010,\"countryName\":\"GREENLD \",\"countryDescription\":\"GREENLAND                      \",\"regionId\":11,\"gencCode\":\"GRL\"},{\"countryCode\":1220,\"countryName\":\"CANADA  \",\"countryDescription\":\"CANADA                         \",\"regionId\":11,\"gencCode\":\"CAN\"},{\"countryCode\":1610,\"countryName\":\"MIGUEL  \",\"countryDescription\":\"ST. PIERRE AND MIQUELON        \",\"regionId\":11,\"gencCode\":null},{\"countryCode\":2010,\"countryName\":\"MEXICO  \",\"countryDescription\":\"MEXICO                         \",\"regionId\":11,\"gencCode\":\"MEX\"},{\"countryCode\":2050,\"countryName\":\"GUATMAL \",\"countryDescription\":\"GUATEMALA                      \",\"regionId\":11,\"gencCode\":\"GTM\"},{\"countryC'"
      ]
     },
     "execution_count": 56,
     "metadata": {},
     "output_type": "execute_result"
    }
   ],
   "source": [
    "str(Data_countries.text)[:900]\n"
   ]
  },
  {
   "cell_type": "markdown",
   "id": "24829996",
   "metadata": {},
   "source": [
    "# Limpando os dados \n",
    "Vide visualização dos dados acima, nota-se espaços em brancos extras que precisam ser removidos. \n",
    "\n",
    "\n",
    "Como trata-se de apenas uma coluna podemos usar o método abaixo:\n",
    " "
   ]
  },
  {
   "cell_type": "code",
   "execution_count": 57,
   "id": "2144bf5c",
   "metadata": {},
   "outputs": [],
   "source": [
    "# Tratando os dados: Removendo espaços  strip : \"  x   \"  ----> \"x\"\n",
    "df[\"countryName\"] = df[\"countryName\"].str.strip()"
   ]
  },
  {
   "cell_type": "markdown",
   "id": "b0c278e0",
   "metadata": {},
   "source": [
    "# Coletando os dados "
   ]
  },
  {
   "cell_type": "code",
   "execution_count": 58,
   "id": "b2c0ca80",
   "metadata": {},
   "outputs": [
    {
     "data": {
      "text/plain": [
       "127    5700\n",
       "Name: countryCode, dtype: int64"
      ]
     },
     "execution_count": 58,
     "metadata": {},
     "output_type": "execute_result"
    }
   ],
   "source": [
    "# Pegando o country_code de China \n",
    "china_countryCode = df[df['countryName'] == 'CHINA']['countryCode']\n",
    "china_countryCode"
   ]
  },
  {
   "cell_type": "code",
   "execution_count": 59,
   "id": "d09ea023",
   "metadata": {},
   "outputs": [
    {
     "data": {
      "text/plain": [
       "5    2010\n",
       "Name: countryCode, dtype: int64"
      ]
     },
     "execution_count": 59,
     "metadata": {},
     "output_type": "execute_result"
    }
   ],
   "source": [
    "# Pegando o country_code de Mexico \n",
    "mexico_countryCode = df[df['countryName'] == 'MEXICO']['countryCode']\n",
    "mexico_countryCode"
   ]
  },
  {
   "cell_type": "code",
   "execution_count": null,
   "id": "50229b32",
   "metadata": {},
   "outputs": [],
   "source": [
    "\n"
   ]
  },
  {
   "cell_type": "code",
   "execution_count": null,
   "id": "0d5d6766",
   "metadata": {},
   "outputs": [],
   "source": []
  },
  {
   "cell_type": "code",
   "execution_count": null,
   "id": "1feadaeb",
   "metadata": {},
   "outputs": [],
   "source": []
  },
  {
   "cell_type": "code",
   "execution_count": null,
   "id": "ed2f5065",
   "metadata": {},
   "outputs": [],
   "source": []
  },
  {
   "cell_type": "code",
   "execution_count": null,
   "id": "f99a4490",
   "metadata": {},
   "outputs": [],
   "source": []
  },
  {
   "cell_type": "code",
   "execution_count": null,
   "id": "a1641330",
   "metadata": {},
   "outputs": [],
   "source": []
  }
 ],
 "metadata": {
  "kernelspec": {
   "display_name": "Python 3 (ipykernel)",
   "language": "python",
   "name": "python3"
  },
  "language_info": {
   "codemirror_mode": {
    "name": "ipython",
    "version": 3
   },
   "file_extension": ".py",
   "mimetype": "text/x-python",
   "name": "python",
   "nbconvert_exporter": "python",
   "pygments_lexer": "ipython3",
   "version": "3.9.12"
  }
 },
 "nbformat": 4,
 "nbformat_minor": 5
}
